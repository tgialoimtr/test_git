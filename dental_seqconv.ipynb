{
  "nbformat": 4,
  "nbformat_minor": 0,
  "metadata": {
    "kernelspec": {
      "display_name": "Python 3",
      "language": "python",
      "name": "python3"
    },
    "language_info": {
      "codemirror_mode": {
        "name": "ipython",
        "version": 3
      },
      "file_extension": ".py",
      "mimetype": "text/x-python",
      "name": "python",
      "nbconvert_exporter": "python",
      "pygments_lexer": "ipython3",
      "version": "3.6.10"
    },
    "colab": {
      "name": "dental_seqconv.ipynb",
      "provenance": [],
      "collapsed_sections": [],
      "include_colab_link": true
    },
    "accelerator": "GPU"
  },
  "cells": [
    {
      "cell_type": "markdown",
      "metadata": {
        "id": "view-in-github",
        "colab_type": "text"
      },
      "source": [
        "<a href=\"https://colab.research.google.com/github/tgialoimtr/test_git/blob/master/dental_seqconv.ipynb\" target=\"_parent\"><img src=\"https://colab.research.google.com/assets/colab-badge.svg\" alt=\"Open In Colab\"/></a>"
      ]
    },
    {
      "cell_type": "code",
      "metadata": {
        "id": "qaQ4nGaXtzgE",
        "colab_type": "code",
        "colab": {
          "base_uri": "https://localhost:8080/",
          "height": 122
        },
        "outputId": "d8eaaa31-e617-4b54-f3a7-e5974b8ea6d3"
      },
      "source": [
        "from google.colab import drive\n",
        "drive.mount('/content/gdrive/')"
      ],
      "execution_count": 1,
      "outputs": [
        {
          "output_type": "stream",
          "text": [
            "Go to this URL in a browser: https://accounts.google.com/o/oauth2/auth?client_id=947318989803-6bn6qk8qdgf4n4g3pfee6491hc0brc4i.apps.googleusercontent.com&redirect_uri=urn%3aietf%3awg%3aoauth%3a2.0%3aoob&scope=email%20https%3a%2f%2fwww.googleapis.com%2fauth%2fdocs.test%20https%3a%2f%2fwww.googleapis.com%2fauth%2fdrive%20https%3a%2f%2fwww.googleapis.com%2fauth%2fdrive.photos.readonly%20https%3a%2f%2fwww.googleapis.com%2fauth%2fpeopleapi.readonly&response_type=code\n",
            "\n",
            "Enter your authorization code:\n",
            "··········\n",
            "Mounted at /content/gdrive/\n"
          ],
          "name": "stdout"
        }
      ]
    },
    {
      "cell_type": "code",
      "metadata": {
        "id": "nXXtQW7Ot5Vr",
        "colab_type": "code",
        "colab": {
          "base_uri": "https://localhost:8080/",
          "height": 51
        },
        "outputId": "3c4aaf2b-2bd8-41b7-e32c-57fbd1b62fa6"
      },
      "source": [
        "!pip install opencv-python"
      ],
      "execution_count": 2,
      "outputs": [
        {
          "output_type": "stream",
          "text": [
            "Requirement already satisfied: opencv-python in /usr/local/lib/python3.6/dist-packages (4.1.2.30)\n",
            "Requirement already satisfied: numpy>=1.11.3 in /usr/local/lib/python3.6/dist-packages (from opencv-python) (1.18.5)\n"
          ],
          "name": "stdout"
        }
      ]
    },
    {
      "cell_type": "code",
      "metadata": {
        "id": "frFssE0KtpjO",
        "colab_type": "code",
        "colab": {}
      },
      "source": [
        "import cv2\n",
        "import numpy as np\n",
        "import os, sys\n",
        "import json\n",
        "import tensorflow as tf"
      ],
      "execution_count": 3,
      "outputs": []
    },
    {
      "cell_type": "code",
      "metadata": {
        "id": "Nx_w0wKvCWYD",
        "colab_type": "code",
        "colab": {
          "base_uri": "https://localhost:8080/",
          "height": 34
        },
        "outputId": "85f8b86f-e89c-44cf-84d6-e15938e90926"
      },
      "source": [
        "!ls \"/content/gdrive/My Drive/workspace/dental/\""
      ],
      "execution_count": 4,
      "outputs": [
        {
          "output_type": "stream",
          "text": [
            "checkpoints  checkpoints2  tb  tb2\n"
          ],
          "name": "stdout"
        }
      ]
    },
    {
      "cell_type": "code",
      "metadata": {
        "id": "dlKhiy-gOnmA",
        "colab_type": "code",
        "colab": {
          "base_uri": "https://localhost:8080/",
          "height": 357
        },
        "outputId": "1a4f9736-7b4c-4eb9-fbfa-af3f96039986"
      },
      "source": [
        "!nvidia-smi"
      ],
      "execution_count": 5,
      "outputs": [
        {
          "output_type": "stream",
          "text": [
            "Sat Aug 29 05:27:14 2020       \n",
            "+-----------------------------------------------------------------------------+\n",
            "| NVIDIA-SMI 450.66       Driver Version: 418.67       CUDA Version: 10.1     |\n",
            "|-------------------------------+----------------------+----------------------+\n",
            "| GPU  Name        Persistence-M| Bus-Id        Disp.A | Volatile Uncorr. ECC |\n",
            "| Fan  Temp  Perf  Pwr:Usage/Cap|         Memory-Usage | GPU-Util  Compute M. |\n",
            "|                               |                      |               MIG M. |\n",
            "|===============================+======================+======================|\n",
            "|   0  Tesla P100-PCIE...  Off  | 00000000:00:04.0 Off |                    0 |\n",
            "| N/A   34C    P0    26W / 250W |      0MiB / 16280MiB |      0%      Default |\n",
            "|                               |                      |                 ERR! |\n",
            "+-------------------------------+----------------------+----------------------+\n",
            "                                                                               \n",
            "+-----------------------------------------------------------------------------+\n",
            "| Processes:                                                                  |\n",
            "|  GPU   GI   CI        PID   Type   Process name                  GPU Memory |\n",
            "|        ID   ID                                                   Usage      |\n",
            "|=============================================================================|\n",
            "|  No running processes found                                                 |\n",
            "+-----------------------------------------------------------------------------+\n"
          ],
          "name": "stdout"
        }
      ]
    },
    {
      "cell_type": "code",
      "metadata": {
        "id": "Sw6lRl1VtpjV",
        "colab_type": "code",
        "colab": {}
      },
      "source": [
        "# 1244x(2245~2976) => 1x1.8~2.3tf.__version__\n",
        "# 1350x(3118~3407) => 1x2.3~2.5"
      ],
      "execution_count": 6,
      "outputs": []
    },
    {
      "cell_type": "code",
      "metadata": {
        "id": "sbj4wBfbtpja",
        "colab_type": "code",
        "colab": {}
      },
      "source": [
        "import hashlib\n",
        " \n",
        "def str2col(s):\n",
        "    ''' convert/hash string to color, so that it describe same string. '''\n",
        "    RGBint = int(hashlib.sha1(s.encode('utf-8')).hexdigest(), 16) % (2 ** 24)\n",
        "    blue =  RGBint & 255\n",
        "    green = (RGBint >> 8) & 255\n",
        "    red =   (RGBint >> 16) & 255\n",
        "    return red, green, blue\n",
        " \n",
        "def name2desc(name):\n",
        "    ''' \n",
        "    FDI labeling rule: example 14x\n",
        "    1 means upper-left\n",
        "    4 means 4th teeth\n",
        "    x: optional, in [m, g, i, e]\n",
        "    -m: missing root of teeth (only top)\n",
        "    -g: only root exist, missing top\n",
        "    -i: implant\n",
        "    -e: extended teeth (bij duw rawng)\n",
        "    '''\n",
        "    rs = {'top':False, 'left':False, 'major':0, 'minor':0, 'ext':None}\n",
        "    rs['major'] = int(name[0])\n",
        "    rs['minor'] = int(name[1])\n",
        "    if name[0] == '1' or name[0] == '2':\n",
        "        rs['top'] = True\n",
        "    if name[0] == '3' or name[0] == '2':\n",
        "        rs['left'] = True\n",
        "    if len(name) > 2:\n",
        "        rs['ext'] = name[2]\n",
        "    return rs\n",
        " \n",
        "class Contour(object):\n",
        "    \n",
        "    def __init__(self, name, points):\n",
        "        self.name = name\n",
        "        self.desc = name2desc(name)\n",
        "        self.xy_points = np.array(points) # (x,y) points\n",
        "        self.points = np.stack([self.xy_points[:,1], self.xy_points[:,0]], axis=1) # (y,x) points\n",
        "        self.center = np.mean(self.points, axis=0)\n",
        "        \n",
        "    def lowest_point(self):\n",
        "        lowest_point_idx = np.argmax(self.points[:,0])\n",
        "        return self.points[lowest_point_idx, :]\n",
        "    \n",
        "    def highest_point(self):\n",
        "        highest_point_idx = np.argmin(self.points[:,0])\n",
        "        return self.points[highest_point_idx, :]\n",
        "        \n",
        "    def draw(self, img, col_str=None, what_to_draw=['contour', 'label']):\n",
        "        xyi_points = self.xy_points.astype(np.int32)\n",
        "        if col_str is None:\n",
        "            col = str2col(self.name)\n",
        "        else:\n",
        "            col = str2col(col_str)\n",
        "        if 'contour' in what_to_draw:\n",
        "            cv2.drawContours(img, [xyi_points], -1, col, 2)\n",
        "        if 'fill' in what_to_draw:\n",
        "            cv2.drawContours(img, [xyi_points], -1, col, -1)\n",
        "        if 'label' in what_to_draw:\n",
        "            if 'fill' in what_to_draw: col = (255-col[0], 255 - col[1], 255 - col[2])\n",
        "            pos = (int(self.center[1]), int(self.center[0]))\n",
        "            cv2.putText(img, self.name, pos, cv2.FONT_HERSHEY_SIMPLEX, 1, col)"
      ],
      "execution_count": 7,
      "outputs": []
    },
    {
      "cell_type": "code",
      "metadata": {
        "id": "w80bzxmJtpje",
        "colab_type": "code",
        "colab": {}
      },
      "source": [
        "ext_masks = ['i', 'm', 'e', 'r', 'g']\n",
        "ext_masks.index('m')\n",
        " \n",
        "ext_labels = ['i', 'm', 'e', 'r', 'g']\n",
        "teeth_labels = ['11','12','13','14','15','16','17','18',\\\n",
        "              '21','22','23','24','25','26','27','28',\\\n",
        "              '31','32','33','34','35','36','37','38',\\\n",
        "              '41','42','43','44','45','46','47','48']"
      ],
      "execution_count": 9,
      "outputs": []
    },
    {
      "cell_type": "code",
      "metadata": {
        "id": "QbmkSqsYtpjj",
        "colab_type": "code",
        "colab": {}
      },
      "source": [
        "def gen(img, lbl):\n",
        "    allpoints = np.concatenate([np.array(shape['points']) for shape in lbl['shapes']])\n",
        "    xmin, ymin = allpoints.min(axis=0)\n",
        "    xmax, ymax = allpoints.max(axis=0)\n",
        "    max_pad_x = 0.15*img.shape[1] #(xmax - xmin)*0.07\n",
        "    max_pad_y = 0.15*img.shape[0] #(ymax - ymin)*0.07\n",
        "    import random\n",
        "    xmax += random.uniform(0, max_pad_x)\n",
        "    xmin -= random.uniform(0, max_pad_x)\n",
        "    ymax += random.uniform(0, max_pad_y)\n",
        "    ymin -= random.uniform(0, max_pad_y)\n",
        "\n",
        "    xmax = min(int(xmax), img.shape[1] - 1)\n",
        "    xmin = max(int(xmin), 0)\n",
        "    ymax = min(int(ymax), img.shape[0] - 1)\n",
        "    ymin = max(int(ymin), 0)\n",
        "\n",
        "    img_croped = img[ymin:ymax, xmin:xmax, :]\n",
        "    img_croped = cv2.resize(img_croped, (512,256))\n",
        " \n",
        "    ry = 256.0/(ymax-ymin)\n",
        "    rx = 512.0/(xmax-xmin)\n",
        " \n",
        "    masks = np.zeros(shape=(len(teeth_labels) + len(ext_labels),256,512), dtype=np.uint8)\n",
        "    m = np.zeros(shape=(256,512), dtype=np.uint8)\n",
        " \n",
        "    for shape in lbl['shapes']:\n",
        "        c = Contour(shape['label'], shape['points'])\n",
        "        i = teeth_labels.index(c.name[:2])\n",
        "    #     mask = np.zeros(shape=(h,w))\n",
        "        pts = c.xy_points\n",
        "        pts -= [xmin,ymin]\n",
        "        pts = (pts*[rx,ry]).astype(int)\n",
        "        #print(pts)\n",
        "        cv2.drawContours(masks[i], [pts], -1, 255, -1)\n",
        "        m = cv2.add(m, masks[i]//255)\n",
        "        if len(c.name) > 2:\n",
        "            j = ext_labels.index(c.name[2])\n",
        "            masks[len(teeth_labels) + j] = cv2.bitwise_or(masks[len(teeth_labels) + j], masks[i])\n",
        " \n",
        "    labels_masks = np.rollaxis(masks, 0, 3)\n",
        "    premask = np.stack([(m==0), (m==1), (m>1)], axis=2)\n",
        "    return img_croped, premask, labels_masks > 0"
      ],
      "execution_count": 10,
      "outputs": []
    },
    {
      "cell_type": "code",
      "metadata": {
        "id": "RzC_JpSp72sS",
        "colab_type": "code",
        "colab": {}
      },
      "source": [
        ""
      ],
      "execution_count": null,
      "outputs": []
    },
    {
      "cell_type": "code",
      "metadata": {
        "id": "IOFMf8lbtpjo",
        "colab_type": "code",
        "colab": {}
      },
      "source": [
        "# img_dir = '/home/loitg/ssd/data/dental_data/images/2007 387枚 読影済/'\n",
        "# lbl_dir = '/home/loitg/ssd/data/dental_data/json/2007 387枚 読影済/'\n",
        "# temp_dir = '/home/loitg/workspace/dental/temp'\n",
        " \n",
        "# fn = '20070508105519'\n",
        "# imgfn = fn + '.png'\n",
        "# lblfn = fn + '.json'\n",
        "# img = cv2.imread(os.path.join(img_dir, imgfn))\n",
        " \n",
        "# lbl = json.load(open(os.path.join(lbl_dir, lblfn)))\n",
        " \n",
        "# img_croped, premask, labels_masks = gen(img, lbl)"
      ],
      "execution_count": 11,
      "outputs": []
    },
    {
      "cell_type": "code",
      "metadata": {
        "id": "m7iX-s0Dtpjs",
        "colab_type": "code",
        "colab": {}
      },
      "source": [
        "# np.concatenate([labels_masks, premask], axis=2).shape"
      ],
      "execution_count": 12,
      "outputs": []
    },
    {
      "cell_type": "code",
      "metadata": {
        "id": "cW0J2sUltpjz",
        "colab_type": "code",
        "colab": {}
      },
      "source": [
        "from glob import glob\n",
        "import random\n",
        " \n",
        "temp_dir = '/content/gdrive/My Drive/workspace/dental/temp/'\n",
        "root_data = '/content/gdrive/My Drive/workspace/dental/'\n",
        "all_json = glob('/content/gdrive/My Drive/workspace/dental_data/json/*/*.json')\n",
        " \n",
        "def kkk():\n",
        "    random.shuffle(all_json)\n",
        "    for path_json in all_json:\n",
        "        try:\n",
        "            path_png = path_json.replace('.json','.png').replace('json','images')\n",
        "            img = cv2.imread(path_png)\n",
        "            if len(img.shape) < 3 or img.shape[2] < 3:\n",
        "                img = cv2.ctvColor(img, cv2.COLOR_GRAY2BGR)\n",
        "            lbl = json.load(open(path_json))\n",
        "            _, fn = os.path.split(path_png)\n",
        "            # print(fn)\n",
        "            img_croped, premask, labels_masks = gen(img, lbl)\n",
        "            img_normalized = img_croped/128.0 - 1\n",
        "            yield img_normalized, (premask, labels_masks)\n",
        "        except Exception as e:\n",
        "            print('Exception!!!')\n",
        "            continue"
      ],
      "execution_count": 13,
      "outputs": []
    },
    {
      "cell_type": "code",
      "metadata": {
        "id": "BNhM52e4tpj3",
        "colab_type": "code",
        "colab": {}
      },
      "source": [
        "import tensorflow as tf\n",
        "train_ds = tf.data.Dataset.from_generator(kkk, args=[], output_types=(tf.float64,(tf.uint8,tf.uint8)) ,\\\n",
        "                                    output_shapes = ((256, 512, 3), ((256, 512, 3), (256, 512, 37)) ))\n",
        "train_ds = train_ds.batch(4)"
      ],
      "execution_count": 14,
      "outputs": []
    },
    {
      "cell_type": "code",
      "metadata": {
        "id": "vy9s5ardQiyk",
        "colab_type": "code",
        "colab": {
          "base_uri": "https://localhost:8080/",
          "height": 34
        },
        "outputId": "c70a61e0-f241-4129-a74a-b6b83c17bb8c"
      },
      "source": [
        "val_ds = train_ds.take(4)\n",
        "val_ds = list(val_ds)"
      ],
      "execution_count": 15,
      "outputs": [
        {
          "output_type": "stream",
          "text": [
            "Exception!!!\n"
          ],
          "name": "stdout"
        }
      ]
    },
    {
      "cell_type": "code",
      "metadata": {
        "id": "993kxtpjS0Qs",
        "colab_type": "code",
        "colab": {
          "base_uri": "https://localhost:8080/",
          "height": 34
        },
        "outputId": "8043297f-8a83-4a1a-d1de-918124cdf741"
      },
      "source": [
        "len(val_ds)"
      ],
      "execution_count": 16,
      "outputs": [
        {
          "output_type": "execute_result",
          "data": {
            "text/plain": [
              "4"
            ]
          },
          "metadata": {
            "tags": []
          },
          "execution_count": 16
        }
      ]
    },
    {
      "cell_type": "code",
      "metadata": {
        "id": "HdtpWIpFtpj7",
        "colab_type": "code",
        "colab": {
          "base_uri": "https://localhost:8080/",
          "height": 51
        },
        "outputId": "0cfaf19a-4b2b-4d47-ba9a-caa73114e2e0"
      },
      "source": [
        "for a, b in train_ds:\n",
        "    print(a.shape)\n",
        "    print(len(b))\n",
        "    break"
      ],
      "execution_count": 17,
      "outputs": [
        {
          "output_type": "stream",
          "text": [
            "(4, 256, 512, 3)\n",
            "2\n"
          ],
          "name": "stdout"
        }
      ]
    },
    {
      "cell_type": "code",
      "metadata": {
        "id": "7ZK1lcUVtpj_",
        "colab_type": "code",
        "colab": {}
      },
      "source": [
        "import tensorflow as tf\n",
        "import tensorflow.keras.backend as K\n",
        "import tensorflow.keras.layers as KL\n",
        " \n",
        "class SeqConv(KL.Layer):\n",
        "    \n",
        "    def __init__(self, y_step, rnn_unit=-1, name='', output_size=-1):\n",
        "        super(SeqConv, self).__init__(name=name)\n",
        "        self.y_step = y_step\n",
        "        self.rnn_unit = rnn_unit\n",
        "        self.output_size = output_size\n",
        "    \n",
        "    def build(self, input_shape):\n",
        "        _, height, width, channel = input_shape\n",
        "        if self.rnn_unit < 0:\n",
        "            self.rnn_unit = channel\n",
        "        self.rnn_x = KL.GRU(self.rnn_unit, return_sequences=True, name=self.name + '-rnnx', kernel_initializer = 'he_normal')\n",
        "        self.rnn_x = KL.TimeDistributed(KL.Bidirectional(self.rnn_x), name=self.name + '-bidrnnx')\n",
        "        \n",
        "        #self.input_depth = channel\n",
        "        a = self.y_step\n",
        "        self.downx = KL.Conv2D(self.rnn_unit, (2*a+1, 2*a+1), strides=(a+1,1), padding='same', name=self.name +'-downx', kernel_initializer = 'he_normal')\n",
        "        self.upx = KL.UpSampling2D((a+1,1), interpolation='bilinear', name=self.name+'-upx')\n",
        "        if self.output_size < 0:\n",
        "            self.output_size = channel\n",
        "        self.up = KL.Conv2D(self.output_size, (1,1), name=self.name + '-up', kernel_initializer = 'he_normal')\n",
        "                               \n",
        "    def call(self, input_tensor):\n",
        "        x = self.downx(input_tensor)\n",
        "        x = self.rnn_x(x)\n",
        "        x = self.upx(x)\n",
        "        z = tf.concat([input_tensor, x], -1)\n",
        "        z = self.up(z)\n",
        "        return z\n",
        "        \n",
        "    def get_config(self):\n",
        "        config = super(SeqConv, self).get_config()\n",
        "        config.update({\"rnn_x\": self.rnn_x, \"downx\":self.downx, \"upx\":self.upx,\\\n",
        "                       \"rnn_unit\":self.rnn_unit, \"y_step\":self.y_step, \"output_size\":self.output_size,\\\n",
        "                      \"up\":self.up})\n",
        "        return config\n",
        " \n",
        "def identity_block(input_tensor, kernel_size, filters, stage, block,\n",
        "                   use_bias=True, train_bn=True):\n",
        "    \"\"\"The identity_block is the block that has no conv layer at shortcut\n",
        "    # Arguments\n",
        "        input_tensor: input tensorimport keras.layers as KL\n",
        "        kernel_size: default 3, the kernel size of middle conv layer at main path\n",
        "        filters: list of integers, the nb_filters of 3 conv layer at main path\n",
        "        stage: integer, current stage label, used for generating layer names\n",
        "        block: 'a','b'..., current block label, used for generating layer names\n",
        "        use_bias: Boolean. To use or not use a bias in conv layers.\n",
        "        train_bn: Boolean. Train or freeze Batch Norm layers\n",
        "    \"\"\"\n",
        "    nb_filter1, nb_filter2, nb_filter3 = filters\n",
        "    conv_name_base = 'res' + str(stage) + block + '_branch'\n",
        "    bn_name_base = 'bn' + str(stage) + block + '_branch'\n",
        " \n",
        "    x = KL.Conv2D(nb_filter1, (1, 1), name=conv_name_base + '2a',\n",
        "                  use_bias=use_bias, kernel_initializer = 'he_normal')(input_tensor)\n",
        "    x = KL.BatchNormalization(name=bn_name_base + '2a')(x, training=train_bn)\n",
        "    x = KL.Activation('relu')(x)\n",
        " \n",
        "    x = KL.Conv2D(nb_filter2, (kernel_size, kernel_size), padding='same',\n",
        "                  name=conv_name_base + '2b', use_bias=use_bias, kernel_initializer = 'he_normal')(x)\n",
        "    x = KL.BatchNormalization(name=bn_name_base + '2b')(x, training=train_bn)\n",
        "    x = KL.Activation('relu')(x)\n",
        " \n",
        "    x = KL.Conv2D(nb_filter3, (1, 1), name=conv_name_base + '2c',\n",
        "                  use_bias=use_bias, kernel_initializer = 'he_normal')(x)\n",
        "    x = KL.BatchNormalization(name=bn_name_base + '2c')(x, training=train_bn)\n",
        " \n",
        "    x = KL.Add()([x, input_tensor])\n",
        "    x = KL.Activation('relu', name='res' + str(stage) + block + '_out')(x)\n",
        "    return x\n",
        " \n",
        "def conv_block(input_tensor, kernel_size, filters, stage, block,\n",
        "               strides=(2, 2), use_bias=True, train_bn=True):\n",
        "    \"\"\"conv_block is the block that has a conv layer at shortcut\n",
        "    # Arguments\n",
        "        input_tensor: input tensor\n",
        "        kernel_size: default 3, the kernel size of middle conv layer at main path\n",
        "        filters: list of integers, the nb_filters of 3 conv layer at main path\n",
        "        stage: integer, current stage label, used for generating layer names\n",
        "        block: 'a','b'..., current block label, used for generating layer names\n",
        "        use_bias: Boolean. To use or not use a bias in conv layers.\n",
        "        train_bn: Boolean. Train or freeze Batch Norm layers\n",
        "    Note that from stage 3, the first conv layer at main path is with subsample=(2,2)\n",
        "    And the shortcut should have subsample=(2,2) as well\n",
        "    \"\"\"\n",
        "    nb_filter1, nb_filter2, nb_filter3 = filters\n",
        "    conv_name_base = 'res' + str(stage) + block + '_branch'\n",
        "    bn_name_base = 'bn' + str(stage) + block + '_branch'\n",
        " \n",
        "    x = KL.Conv2D(nb_filter1, (1, 1), strides=strides,\n",
        "                  name=conv_name_base + '2a', use_bias=use_bias)(input_tensor)\n",
        "    x = KL.BatchNormalization(name=bn_name_base + '2a')(x, training=train_bn)\n",
        "    x = KL.Activation('relu')(x)\n",
        " \n",
        "    x = KL.Conv2D(nb_filter2, (kernel_size, kernel_size), padding='same',\n",
        "                  name=conv_name_base + '2b', use_bias=use_bias)(x)\n",
        "    x = KL.BatchNormalization(name=bn_name_base + '2b')(x, training=train_bn)\n",
        "    x = KL.Activation('relu')(x)\n",
        " \n",
        "    x = KL.Conv2D(nb_filter3, (1, 1), name=conv_name_base +\n",
        "                  '2c', use_bias=use_bias)(x)\n",
        "    x = KL.BatchNormalization(name=bn_name_base + '2c')(x, training=train_bn)\n",
        " \n",
        "    shortcut = KL.Conv2D(nb_filter3, (1, 1), strides=strides,\n",
        "                         name=conv_name_base + '1', use_bias=use_bias)(input_tensor)\n",
        "    shortcut = KL.BatchNormalization(name=bn_name_base + '1')(shortcut, training=train_bn)\n",
        " \n",
        "    x = KL.Add()([x, shortcut])\n",
        "    x = KL.Activation('relu', name='res' + str(stage) + block + '_out')(x)\n",
        "    return x\n",
        " \n",
        " \n",
        "def stage_shallow(input_tensor, filter_n, depth, stage, train_bn, insert_seqconv=False, rnn_unit=-1):\n",
        "    x = KL.Conv2D(filter_n, (3,3), padding='same', name=stage+'-conv01', kernel_initializer = 'he_normal')(input_tensor)\n",
        "    x = KL.BatchNormalization(name=stage + '-bn1')(x, training=train_bn)\n",
        "    if insert_seqconv:\n",
        "        x = SeqConv(y_step=1, rnn_unit=rnn_unit, output_size=-1, name=stage+'-seqconv-')(x)\n",
        "        x = KL.BatchNormalization(name=stage + '-bnseqconv')(x, training=train_bn)\n",
        "    x = KL.Conv2D(filter_n, (3,3), padding='same', name=stage+'conv11', kernel_initializer = 'he_normal')(x)\n",
        "    x = KL.BatchNormalization(name=stage + '-bn2')(x, training=train_bn)\n",
        "    return x\n",
        " \n",
        "def stage_deep(input_tensor, filter_n, depth, stage, train_bn, insert_seqconv=False, rnn_unit=-1):\n",
        "    filters = [filter_n//2, filter_n//2, filter_n]\n",
        "    if insert_seqconv:\n",
        "        x = SeqConv(y_step=1, rnn_unit=rnn_unit, output_size=filter_n, name=stage + '-seqconv-')(input_tensor)\n",
        "        x = KL.BatchNormalization(name=stage + '-bn')(x, training=train_bn)\n",
        "    else:\n",
        "        x = conv_block(input_tensor, 3, filters, stage=stage, block='conv', strides=(1,1), train_bn=train_bn)\n",
        "    for i in range(depth):\n",
        "        x = identity_block(x, 3, filters, stage=stage, block='i' + str(i), train_bn=train_bn)\n",
        "    return x\n",
        " \n",
        "def head_graph(features, filters, name):\n",
        "    x = features\n",
        "    for i, filter_ in enumerate(filters):\n",
        "        x = KL.Conv2D(filter_, (1, 1), padding=\"SAME\", name=name+str(i))(x)\n",
        "        x = KL.BatchNormalization(name=name+'bn'+str(i))(x)\n",
        "    return x\n",
        " \n",
        " \n",
        "def unet(input_image, name='', train_bn=False): #256x512\n",
        "    depth = None\n",
        "    \n",
        "    C1 = stage_shallow(input_image, 64, depth, name+'C1', train_bn, insert_seqconv=False)\n",
        "    C2 = KL.MaxPooling2D(pool_size=(2, 2))(C1) #128x256 (/2)\n",
        "    C2 = stage_shallow(C2, 128, depth, name+'C2', train_bn, insert_seqconv=False)\n",
        "    C3 = KL.MaxPooling2D(pool_size=(2, 2))(C2) #64x128 (/4)\n",
        "    C3 = stage_deep(C3, 256, 5, name+'C3', train_bn, insert_seqconv=False)\n",
        "    C4 = KL.MaxPooling2D(pool_size=(2, 2))(C3) #32x64 (/8)\n",
        "    C4 = stage_deep(C4, 256, 10, name+'C4', train_bn, insert_seqconv=True, rnn_unit=32)\n",
        "    C5 = KL.MaxPooling2D(pool_size=(2, 2))(C4) #16x32 (/16)\n",
        "    C5 = stage_deep(C5, 512, 20, name+'C5', train_bn, insert_seqconv=True, rnn_unit=128)\n",
        "    C6 = KL.MaxPooling2D(pool_size=(2, 2))(C5) #8x16 (/32)\n",
        "    \n",
        "    P6 = stage_shallow(C6, 512, depth, name+'C6P6', train_bn, insert_seqconv=False) #8x16\n",
        "    P5 = KL.Concatenate(name=name+'concatP6C5')([KL.UpSampling2D(size=(2, 2))(P6), C5]) #16x32\n",
        "    P5 = stage_shallow(P5, 512, 20, name+'P5', train_bn, insert_seqconv=True, rnn_unit=128)\n",
        " \n",
        "    P4 = KL.Concatenate(name=name+'concatP5C4')([KL.UpSampling2D(size=(2, 2))(P5), C4]) #32x64\n",
        "    P4 = stage_shallow(P4, 512, 10, name+'P4', train_bn, insert_seqconv=True, rnn_unit=32)\n",
        " \n",
        "    P3 = KL.Concatenate(name=name+'concatP4C3')([KL.UpSampling2D(size=(2, 2))(P4), C3]) #64x128\n",
        "    P3 = stage_shallow(P3, 256, 5, name+'P3', train_bn, insert_seqconv=False)\n",
        " \n",
        "    P2 = KL.Concatenate(name=name+'concatP3C2')([KL.UpSampling2D(size=(2, 2))(P3), C2]) #256\n",
        "    P2 = stage_shallow(P2, 256, depth, name+'P2', train_bn, insert_seqconv=False)\n",
        "    \n",
        "    P1 = KL.Concatenate(name=name+'concatP2C1')([KL.UpSampling2D(size=(2, 2))(P2), C1]) #512\n",
        "    P1 = stage_shallow(P1, 128, depth, name+'P1', train_bn, insert_seqconv=False)\n",
        "    \n",
        "    return P1"
      ],
      "execution_count": 18,
      "outputs": []
    },
    {
      "cell_type": "code",
      "metadata": {
        "id": "rmYb2SkMtpkE",
        "colab_type": "code",
        "colab": {
          "base_uri": "https://localhost:8080/",
          "height": 1000
        },
        "outputId": "728043e5-92a2-4b86-b173-01b3b2bc7f9a"
      },
      "source": [
        "from tensorflow.keras import Input, Model\n",
        " \n",
        "tf.keras.backend.clear_session()\n",
        " \n",
        "input_size=(256,512)\n",
        "image = Input(input_size + (3,))\n",
        "features1 = unet(image, name='USC-', train_bn=True)\n",
        "premask_output_1 = head_graph(features1, filters=[32,3], name='premask_branch_1')\n",
        "labels_output_1 = head_graph(features1, filters=[64,37], name='labels_branch_1')\n",
        " \n",
        "model = Model([image], outputs=[premask_output_1, labels_output_1])\n",
        "model.compile(optimizer = tf.keras.optimizers.Adam(lr = 1e-4), loss=[tf.keras.losses.CategoricalCrossentropy(from_logits=True),\\\n",
        "                                                                     tf.keras.losses.BinaryCrossentropy(from_logits=True)])\n",
        "model.summary()"
      ],
      "execution_count": 19,
      "outputs": [
        {
          "output_type": "stream",
          "text": [
            "Model: \"functional_1\"\n",
            "__________________________________________________________________________________________________\n",
            "Layer (type)                    Output Shape         Param #     Connected to                     \n",
            "==================================================================================================\n",
            "input_1 (InputLayer)            [(None, 256, 512, 3) 0                                            \n",
            "__________________________________________________________________________________________________\n",
            "USC-C1-conv01 (Conv2D)          (None, 256, 512, 64) 1792        input_1[0][0]                    \n",
            "__________________________________________________________________________________________________\n",
            "USC-C1-bn1 (BatchNormalization) (None, 256, 512, 64) 256         USC-C1-conv01[0][0]              \n",
            "__________________________________________________________________________________________________\n",
            "USC-C1conv11 (Conv2D)           (None, 256, 512, 64) 36928       USC-C1-bn1[0][0]                 \n",
            "__________________________________________________________________________________________________\n",
            "USC-C1-bn2 (BatchNormalization) (None, 256, 512, 64) 256         USC-C1conv11[0][0]               \n",
            "__________________________________________________________________________________________________\n",
            "max_pooling2d (MaxPooling2D)    (None, 128, 256, 64) 0           USC-C1-bn2[0][0]                 \n",
            "__________________________________________________________________________________________________\n",
            "USC-C2-conv01 (Conv2D)          (None, 128, 256, 128 73856       max_pooling2d[0][0]              \n",
            "__________________________________________________________________________________________________\n",
            "USC-C2-bn1 (BatchNormalization) (None, 128, 256, 128 512         USC-C2-conv01[0][0]              \n",
            "__________________________________________________________________________________________________\n",
            "USC-C2conv11 (Conv2D)           (None, 128, 256, 128 147584      USC-C2-bn1[0][0]                 \n",
            "__________________________________________________________________________________________________\n",
            "USC-C2-bn2 (BatchNormalization) (None, 128, 256, 128 512         USC-C2conv11[0][0]               \n",
            "__________________________________________________________________________________________________\n",
            "max_pooling2d_1 (MaxPooling2D)  (None, 64, 128, 128) 0           USC-C2-bn2[0][0]                 \n",
            "__________________________________________________________________________________________________\n",
            "resUSC-C3conv_branch2a (Conv2D) (None, 64, 128, 128) 16512       max_pooling2d_1[0][0]            \n",
            "__________________________________________________________________________________________________\n",
            "bnUSC-C3conv_branch2a (BatchNor (None, 64, 128, 128) 512         resUSC-C3conv_branch2a[0][0]     \n",
            "__________________________________________________________________________________________________\n",
            "activation (Activation)         (None, 64, 128, 128) 0           bnUSC-C3conv_branch2a[0][0]      \n",
            "__________________________________________________________________________________________________\n",
            "resUSC-C3conv_branch2b (Conv2D) (None, 64, 128, 128) 147584      activation[0][0]                 \n",
            "__________________________________________________________________________________________________\n",
            "bnUSC-C3conv_branch2b (BatchNor (None, 64, 128, 128) 512         resUSC-C3conv_branch2b[0][0]     \n",
            "__________________________________________________________________________________________________\n",
            "activation_1 (Activation)       (None, 64, 128, 128) 0           bnUSC-C3conv_branch2b[0][0]      \n",
            "__________________________________________________________________________________________________\n",
            "resUSC-C3conv_branch2c (Conv2D) (None, 64, 128, 256) 33024       activation_1[0][0]               \n",
            "__________________________________________________________________________________________________\n",
            "resUSC-C3conv_branch1 (Conv2D)  (None, 64, 128, 256) 33024       max_pooling2d_1[0][0]            \n",
            "__________________________________________________________________________________________________\n",
            "bnUSC-C3conv_branch2c (BatchNor (None, 64, 128, 256) 1024        resUSC-C3conv_branch2c[0][0]     \n",
            "__________________________________________________________________________________________________\n",
            "bnUSC-C3conv_branch1 (BatchNorm (None, 64, 128, 256) 1024        resUSC-C3conv_branch1[0][0]      \n",
            "__________________________________________________________________________________________________\n",
            "add (Add)                       (None, 64, 128, 256) 0           bnUSC-C3conv_branch2c[0][0]      \n",
            "                                                                 bnUSC-C3conv_branch1[0][0]       \n",
            "__________________________________________________________________________________________________\n",
            "resUSC-C3conv_out (Activation)  (None, 64, 128, 256) 0           add[0][0]                        \n",
            "__________________________________________________________________________________________________\n",
            "resUSC-C3i0_branch2a (Conv2D)   (None, 64, 128, 128) 32896       resUSC-C3conv_out[0][0]          \n",
            "__________________________________________________________________________________________________\n",
            "bnUSC-C3i0_branch2a (BatchNorma (None, 64, 128, 128) 512         resUSC-C3i0_branch2a[0][0]       \n",
            "__________________________________________________________________________________________________\n",
            "activation_2 (Activation)       (None, 64, 128, 128) 0           bnUSC-C3i0_branch2a[0][0]        \n",
            "__________________________________________________________________________________________________\n",
            "resUSC-C3i0_branch2b (Conv2D)   (None, 64, 128, 128) 147584      activation_2[0][0]               \n",
            "__________________________________________________________________________________________________\n",
            "bnUSC-C3i0_branch2b (BatchNorma (None, 64, 128, 128) 512         resUSC-C3i0_branch2b[0][0]       \n",
            "__________________________________________________________________________________________________\n",
            "activation_3 (Activation)       (None, 64, 128, 128) 0           bnUSC-C3i0_branch2b[0][0]        \n",
            "__________________________________________________________________________________________________\n",
            "resUSC-C3i0_branch2c (Conv2D)   (None, 64, 128, 256) 33024       activation_3[0][0]               \n",
            "__________________________________________________________________________________________________\n",
            "bnUSC-C3i0_branch2c (BatchNorma (None, 64, 128, 256) 1024        resUSC-C3i0_branch2c[0][0]       \n",
            "__________________________________________________________________________________________________\n",
            "add_1 (Add)                     (None, 64, 128, 256) 0           bnUSC-C3i0_branch2c[0][0]        \n",
            "                                                                 resUSC-C3conv_out[0][0]          \n",
            "__________________________________________________________________________________________________\n",
            "resUSC-C3i0_out (Activation)    (None, 64, 128, 256) 0           add_1[0][0]                      \n",
            "__________________________________________________________________________________________________\n",
            "resUSC-C3i1_branch2a (Conv2D)   (None, 64, 128, 128) 32896       resUSC-C3i0_out[0][0]            \n",
            "__________________________________________________________________________________________________\n",
            "bnUSC-C3i1_branch2a (BatchNorma (None, 64, 128, 128) 512         resUSC-C3i1_branch2a[0][0]       \n",
            "__________________________________________________________________________________________________\n",
            "activation_4 (Activation)       (None, 64, 128, 128) 0           bnUSC-C3i1_branch2a[0][0]        \n",
            "__________________________________________________________________________________________________\n",
            "resUSC-C3i1_branch2b (Conv2D)   (None, 64, 128, 128) 147584      activation_4[0][0]               \n",
            "__________________________________________________________________________________________________\n",
            "bnUSC-C3i1_branch2b (BatchNorma (None, 64, 128, 128) 512         resUSC-C3i1_branch2b[0][0]       \n",
            "__________________________________________________________________________________________________\n",
            "activation_5 (Activation)       (None, 64, 128, 128) 0           bnUSC-C3i1_branch2b[0][0]        \n",
            "__________________________________________________________________________________________________\n",
            "resUSC-C3i1_branch2c (Conv2D)   (None, 64, 128, 256) 33024       activation_5[0][0]               \n",
            "__________________________________________________________________________________________________\n",
            "bnUSC-C3i1_branch2c (BatchNorma (None, 64, 128, 256) 1024        resUSC-C3i1_branch2c[0][0]       \n",
            "__________________________________________________________________________________________________\n",
            "add_2 (Add)                     (None, 64, 128, 256) 0           bnUSC-C3i1_branch2c[0][0]        \n",
            "                                                                 resUSC-C3i0_out[0][0]            \n",
            "__________________________________________________________________________________________________\n",
            "resUSC-C3i1_out (Activation)    (None, 64, 128, 256) 0           add_2[0][0]                      \n",
            "__________________________________________________________________________________________________\n",
            "resUSC-C3i2_branch2a (Conv2D)   (None, 64, 128, 128) 32896       resUSC-C3i1_out[0][0]            \n",
            "__________________________________________________________________________________________________\n",
            "bnUSC-C3i2_branch2a (BatchNorma (None, 64, 128, 128) 512         resUSC-C3i2_branch2a[0][0]       \n",
            "__________________________________________________________________________________________________\n",
            "activation_6 (Activation)       (None, 64, 128, 128) 0           bnUSC-C3i2_branch2a[0][0]        \n",
            "__________________________________________________________________________________________________\n",
            "resUSC-C3i2_branch2b (Conv2D)   (None, 64, 128, 128) 147584      activation_6[0][0]               \n",
            "__________________________________________________________________________________________________\n",
            "bnUSC-C3i2_branch2b (BatchNorma (None, 64, 128, 128) 512         resUSC-C3i2_branch2b[0][0]       \n",
            "__________________________________________________________________________________________________\n",
            "activation_7 (Activation)       (None, 64, 128, 128) 0           bnUSC-C3i2_branch2b[0][0]        \n",
            "__________________________________________________________________________________________________\n",
            "resUSC-C3i2_branch2c (Conv2D)   (None, 64, 128, 256) 33024       activation_7[0][0]               \n",
            "__________________________________________________________________________________________________\n",
            "bnUSC-C3i2_branch2c (BatchNorma (None, 64, 128, 256) 1024        resUSC-C3i2_branch2c[0][0]       \n",
            "__________________________________________________________________________________________________\n",
            "add_3 (Add)                     (None, 64, 128, 256) 0           bnUSC-C3i2_branch2c[0][0]        \n",
            "                                                                 resUSC-C3i1_out[0][0]            \n",
            "__________________________________________________________________________________________________\n",
            "resUSC-C3i2_out (Activation)    (None, 64, 128, 256) 0           add_3[0][0]                      \n",
            "__________________________________________________________________________________________________\n",
            "resUSC-C3i3_branch2a (Conv2D)   (None, 64, 128, 128) 32896       resUSC-C3i2_out[0][0]            \n",
            "__________________________________________________________________________________________________\n",
            "bnUSC-C3i3_branch2a (BatchNorma (None, 64, 128, 128) 512         resUSC-C3i3_branch2a[0][0]       \n",
            "__________________________________________________________________________________________________\n",
            "activation_8 (Activation)       (None, 64, 128, 128) 0           bnUSC-C3i3_branch2a[0][0]        \n",
            "__________________________________________________________________________________________________\n",
            "resUSC-C3i3_branch2b (Conv2D)   (None, 64, 128, 128) 147584      activation_8[0][0]               \n",
            "__________________________________________________________________________________________________\n",
            "bnUSC-C3i3_branch2b (BatchNorma (None, 64, 128, 128) 512         resUSC-C3i3_branch2b[0][0]       \n",
            "__________________________________________________________________________________________________\n",
            "activation_9 (Activation)       (None, 64, 128, 128) 0           bnUSC-C3i3_branch2b[0][0]        \n",
            "__________________________________________________________________________________________________\n",
            "resUSC-C3i3_branch2c (Conv2D)   (None, 64, 128, 256) 33024       activation_9[0][0]               \n",
            "__________________________________________________________________________________________________\n",
            "bnUSC-C3i3_branch2c (BatchNorma (None, 64, 128, 256) 1024        resUSC-C3i3_branch2c[0][0]       \n",
            "__________________________________________________________________________________________________\n",
            "add_4 (Add)                     (None, 64, 128, 256) 0           bnUSC-C3i3_branch2c[0][0]        \n",
            "                                                                 resUSC-C3i2_out[0][0]            \n",
            "__________________________________________________________________________________________________\n",
            "resUSC-C3i3_out (Activation)    (None, 64, 128, 256) 0           add_4[0][0]                      \n",
            "__________________________________________________________________________________________________\n",
            "resUSC-C3i4_branch2a (Conv2D)   (None, 64, 128, 128) 32896       resUSC-C3i3_out[0][0]            \n",
            "__________________________________________________________________________________________________\n",
            "bnUSC-C3i4_branch2a (BatchNorma (None, 64, 128, 128) 512         resUSC-C3i4_branch2a[0][0]       \n",
            "__________________________________________________________________________________________________\n",
            "activation_10 (Activation)      (None, 64, 128, 128) 0           bnUSC-C3i4_branch2a[0][0]        \n",
            "__________________________________________________________________________________________________\n",
            "resUSC-C3i4_branch2b (Conv2D)   (None, 64, 128, 128) 147584      activation_10[0][0]              \n",
            "__________________________________________________________________________________________________\n",
            "bnUSC-C3i4_branch2b (BatchNorma (None, 64, 128, 128) 512         resUSC-C3i4_branch2b[0][0]       \n",
            "__________________________________________________________________________________________________\n",
            "activation_11 (Activation)      (None, 64, 128, 128) 0           bnUSC-C3i4_branch2b[0][0]        \n",
            "__________________________________________________________________________________________________\n",
            "resUSC-C3i4_branch2c (Conv2D)   (None, 64, 128, 256) 33024       activation_11[0][0]              \n",
            "__________________________________________________________________________________________________\n",
            "bnUSC-C3i4_branch2c (BatchNorma (None, 64, 128, 256) 1024        resUSC-C3i4_branch2c[0][0]       \n",
            "__________________________________________________________________________________________________\n",
            "add_5 (Add)                     (None, 64, 128, 256) 0           bnUSC-C3i4_branch2c[0][0]        \n",
            "                                                                 resUSC-C3i3_out[0][0]            \n",
            "__________________________________________________________________________________________________\n",
            "resUSC-C3i4_out (Activation)    (None, 64, 128, 256) 0           add_5[0][0]                      \n",
            "__________________________________________________________________________________________________\n",
            "max_pooling2d_2 (MaxPooling2D)  (None, 32, 64, 256)  0           resUSC-C3i4_out[0][0]            \n",
            "__________________________________________________________________________________________________\n",
            "USC-C4-seqconv- (SeqConv)       (None, 32, 64, 256)  168608      max_pooling2d_2[0][0]            \n",
            "__________________________________________________________________________________________________\n",
            "USC-C4-bn (BatchNormalization)  (None, 32, 64, 256)  1024        USC-C4-seqconv-[0][0]            \n",
            "__________________________________________________________________________________________________\n",
            "resUSC-C4i0_branch2a (Conv2D)   (None, 32, 64, 128)  32896       USC-C4-bn[0][0]                  \n",
            "__________________________________________________________________________________________________\n",
            "bnUSC-C4i0_branch2a (BatchNorma (None, 32, 64, 128)  512         resUSC-C4i0_branch2a[0][0]       \n",
            "__________________________________________________________________________________________________\n",
            "activation_12 (Activation)      (None, 32, 64, 128)  0           bnUSC-C4i0_branch2a[0][0]        \n",
            "__________________________________________________________________________________________________\n",
            "resUSC-C4i0_branch2b (Conv2D)   (None, 32, 64, 128)  147584      activation_12[0][0]              \n",
            "__________________________________________________________________________________________________\n",
            "bnUSC-C4i0_branch2b (BatchNorma (None, 32, 64, 128)  512         resUSC-C4i0_branch2b[0][0]       \n",
            "__________________________________________________________________________________________________\n",
            "activation_13 (Activation)      (None, 32, 64, 128)  0           bnUSC-C4i0_branch2b[0][0]        \n",
            "__________________________________________________________________________________________________\n",
            "resUSC-C4i0_branch2c (Conv2D)   (None, 32, 64, 256)  33024       activation_13[0][0]              \n",
            "__________________________________________________________________________________________________\n",
            "bnUSC-C4i0_branch2c (BatchNorma (None, 32, 64, 256)  1024        resUSC-C4i0_branch2c[0][0]       \n",
            "__________________________________________________________________________________________________\n",
            "add_6 (Add)                     (None, 32, 64, 256)  0           bnUSC-C4i0_branch2c[0][0]        \n",
            "                                                                 USC-C4-bn[0][0]                  \n",
            "__________________________________________________________________________________________________\n",
            "resUSC-C4i0_out (Activation)    (None, 32, 64, 256)  0           add_6[0][0]                      \n",
            "__________________________________________________________________________________________________\n",
            "resUSC-C4i1_branch2a (Conv2D)   (None, 32, 64, 128)  32896       resUSC-C4i0_out[0][0]            \n",
            "__________________________________________________________________________________________________\n",
            "bnUSC-C4i1_branch2a (BatchNorma (None, 32, 64, 128)  512         resUSC-C4i1_branch2a[0][0]       \n",
            "__________________________________________________________________________________________________\n",
            "activation_14 (Activation)      (None, 32, 64, 128)  0           bnUSC-C4i1_branch2a[0][0]        \n",
            "__________________________________________________________________________________________________\n",
            "resUSC-C4i1_branch2b (Conv2D)   (None, 32, 64, 128)  147584      activation_14[0][0]              \n",
            "__________________________________________________________________________________________________\n",
            "bnUSC-C4i1_branch2b (BatchNorma (None, 32, 64, 128)  512         resUSC-C4i1_branch2b[0][0]       \n",
            "__________________________________________________________________________________________________\n",
            "activation_15 (Activation)      (None, 32, 64, 128)  0           bnUSC-C4i1_branch2b[0][0]        \n",
            "__________________________________________________________________________________________________\n",
            "resUSC-C4i1_branch2c (Conv2D)   (None, 32, 64, 256)  33024       activation_15[0][0]              \n",
            "__________________________________________________________________________________________________\n",
            "bnUSC-C4i1_branch2c (BatchNorma (None, 32, 64, 256)  1024        resUSC-C4i1_branch2c[0][0]       \n",
            "__________________________________________________________________________________________________\n",
            "add_7 (Add)                     (None, 32, 64, 256)  0           bnUSC-C4i1_branch2c[0][0]        \n",
            "                                                                 resUSC-C4i0_out[0][0]            \n",
            "__________________________________________________________________________________________________\n",
            "resUSC-C4i1_out (Activation)    (None, 32, 64, 256)  0           add_7[0][0]                      \n",
            "__________________________________________________________________________________________________\n",
            "resUSC-C4i2_branch2a (Conv2D)   (None, 32, 64, 128)  32896       resUSC-C4i1_out[0][0]            \n",
            "__________________________________________________________________________________________________\n",
            "bnUSC-C4i2_branch2a (BatchNorma (None, 32, 64, 128)  512         resUSC-C4i2_branch2a[0][0]       \n",
            "__________________________________________________________________________________________________\n",
            "activation_16 (Activation)      (None, 32, 64, 128)  0           bnUSC-C4i2_branch2a[0][0]        \n",
            "__________________________________________________________________________________________________\n",
            "resUSC-C4i2_branch2b (Conv2D)   (None, 32, 64, 128)  147584      activation_16[0][0]              \n",
            "__________________________________________________________________________________________________\n",
            "bnUSC-C4i2_branch2b (BatchNorma (None, 32, 64, 128)  512         resUSC-C4i2_branch2b[0][0]       \n",
            "__________________________________________________________________________________________________\n",
            "activation_17 (Activation)      (None, 32, 64, 128)  0           bnUSC-C4i2_branch2b[0][0]        \n",
            "__________________________________________________________________________________________________\n",
            "resUSC-C4i2_branch2c (Conv2D)   (None, 32, 64, 256)  33024       activation_17[0][0]              \n",
            "__________________________________________________________________________________________________\n",
            "bnUSC-C4i2_branch2c (BatchNorma (None, 32, 64, 256)  1024        resUSC-C4i2_branch2c[0][0]       \n",
            "__________________________________________________________________________________________________\n",
            "add_8 (Add)                     (None, 32, 64, 256)  0           bnUSC-C4i2_branch2c[0][0]        \n",
            "                                                                 resUSC-C4i1_out[0][0]            \n",
            "__________________________________________________________________________________________________\n",
            "resUSC-C4i2_out (Activation)    (None, 32, 64, 256)  0           add_8[0][0]                      \n",
            "__________________________________________________________________________________________________\n",
            "resUSC-C4i3_branch2a (Conv2D)   (None, 32, 64, 128)  32896       resUSC-C4i2_out[0][0]            \n",
            "__________________________________________________________________________________________________\n",
            "bnUSC-C4i3_branch2a (BatchNorma (None, 32, 64, 128)  512         resUSC-C4i3_branch2a[0][0]       \n",
            "__________________________________________________________________________________________________\n",
            "activation_18 (Activation)      (None, 32, 64, 128)  0           bnUSC-C4i3_branch2a[0][0]        \n",
            "__________________________________________________________________________________________________\n",
            "resUSC-C4i3_branch2b (Conv2D)   (None, 32, 64, 128)  147584      activation_18[0][0]              \n",
            "__________________________________________________________________________________________________\n",
            "bnUSC-C4i3_branch2b (BatchNorma (None, 32, 64, 128)  512         resUSC-C4i3_branch2b[0][0]       \n",
            "__________________________________________________________________________________________________\n",
            "activation_19 (Activation)      (None, 32, 64, 128)  0           bnUSC-C4i3_branch2b[0][0]        \n",
            "__________________________________________________________________________________________________\n",
            "resUSC-C4i3_branch2c (Conv2D)   (None, 32, 64, 256)  33024       activation_19[0][0]              \n",
            "__________________________________________________________________________________________________\n",
            "bnUSC-C4i3_branch2c (BatchNorma (None, 32, 64, 256)  1024        resUSC-C4i3_branch2c[0][0]       \n",
            "__________________________________________________________________________________________________\n",
            "add_9 (Add)                     (None, 32, 64, 256)  0           bnUSC-C4i3_branch2c[0][0]        \n",
            "                                                                 resUSC-C4i2_out[0][0]            \n",
            "__________________________________________________________________________________________________\n",
            "resUSC-C4i3_out (Activation)    (None, 32, 64, 256)  0           add_9[0][0]                      \n",
            "__________________________________________________________________________________________________\n",
            "resUSC-C4i4_branch2a (Conv2D)   (None, 32, 64, 128)  32896       resUSC-C4i3_out[0][0]            \n",
            "__________________________________________________________________________________________________\n",
            "bnUSC-C4i4_branch2a (BatchNorma (None, 32, 64, 128)  512         resUSC-C4i4_branch2a[0][0]       \n",
            "__________________________________________________________________________________________________\n",
            "activation_20 (Activation)      (None, 32, 64, 128)  0           bnUSC-C4i4_branch2a[0][0]        \n",
            "__________________________________________________________________________________________________\n",
            "resUSC-C4i4_branch2b (Conv2D)   (None, 32, 64, 128)  147584      activation_20[0][0]              \n",
            "__________________________________________________________________________________________________\n",
            "bnUSC-C4i4_branch2b (BatchNorma (None, 32, 64, 128)  512         resUSC-C4i4_branch2b[0][0]       \n",
            "__________________________________________________________________________________________________\n",
            "activation_21 (Activation)      (None, 32, 64, 128)  0           bnUSC-C4i4_branch2b[0][0]        \n",
            "__________________________________________________________________________________________________\n",
            "resUSC-C4i4_branch2c (Conv2D)   (None, 32, 64, 256)  33024       activation_21[0][0]              \n",
            "__________________________________________________________________________________________________\n",
            "bnUSC-C4i4_branch2c (BatchNorma (None, 32, 64, 256)  1024        resUSC-C4i4_branch2c[0][0]       \n",
            "__________________________________________________________________________________________________\n",
            "add_10 (Add)                    (None, 32, 64, 256)  0           bnUSC-C4i4_branch2c[0][0]        \n",
            "                                                                 resUSC-C4i3_out[0][0]            \n",
            "__________________________________________________________________________________________________\n",
            "resUSC-C4i4_out (Activation)    (None, 32, 64, 256)  0           add_10[0][0]                     \n",
            "__________________________________________________________________________________________________\n",
            "resUSC-C4i5_branch2a (Conv2D)   (None, 32, 64, 128)  32896       resUSC-C4i4_out[0][0]            \n",
            "__________________________________________________________________________________________________\n",
            "bnUSC-C4i5_branch2a (BatchNorma (None, 32, 64, 128)  512         resUSC-C4i5_branch2a[0][0]       \n",
            "__________________________________________________________________________________________________\n",
            "activation_22 (Activation)      (None, 32, 64, 128)  0           bnUSC-C4i5_branch2a[0][0]        \n",
            "__________________________________________________________________________________________________\n",
            "resUSC-C4i5_branch2b (Conv2D)   (None, 32, 64, 128)  147584      activation_22[0][0]              \n",
            "__________________________________________________________________________________________________\n",
            "bnUSC-C4i5_branch2b (BatchNorma (None, 32, 64, 128)  512         resUSC-C4i5_branch2b[0][0]       \n",
            "__________________________________________________________________________________________________\n",
            "activation_23 (Activation)      (None, 32, 64, 128)  0           bnUSC-C4i5_branch2b[0][0]        \n",
            "__________________________________________________________________________________________________\n",
            "resUSC-C4i5_branch2c (Conv2D)   (None, 32, 64, 256)  33024       activation_23[0][0]              \n",
            "__________________________________________________________________________________________________\n",
            "bnUSC-C4i5_branch2c (BatchNorma (None, 32, 64, 256)  1024        resUSC-C4i5_branch2c[0][0]       \n",
            "__________________________________________________________________________________________________\n",
            "add_11 (Add)                    (None, 32, 64, 256)  0           bnUSC-C4i5_branch2c[0][0]        \n",
            "                                                                 resUSC-C4i4_out[0][0]            \n",
            "__________________________________________________________________________________________________\n",
            "resUSC-C4i5_out (Activation)    (None, 32, 64, 256)  0           add_11[0][0]                     \n",
            "__________________________________________________________________________________________________\n",
            "resUSC-C4i6_branch2a (Conv2D)   (None, 32, 64, 128)  32896       resUSC-C4i5_out[0][0]            \n",
            "__________________________________________________________________________________________________\n",
            "bnUSC-C4i6_branch2a (BatchNorma (None, 32, 64, 128)  512         resUSC-C4i6_branch2a[0][0]       \n",
            "__________________________________________________________________________________________________\n",
            "activation_24 (Activation)      (None, 32, 64, 128)  0           bnUSC-C4i6_branch2a[0][0]        \n",
            "__________________________________________________________________________________________________\n",
            "resUSC-C4i6_branch2b (Conv2D)   (None, 32, 64, 128)  147584      activation_24[0][0]              \n",
            "__________________________________________________________________________________________________\n",
            "bnUSC-C4i6_branch2b (BatchNorma (None, 32, 64, 128)  512         resUSC-C4i6_branch2b[0][0]       \n",
            "__________________________________________________________________________________________________\n",
            "activation_25 (Activation)      (None, 32, 64, 128)  0           bnUSC-C4i6_branch2b[0][0]        \n",
            "__________________________________________________________________________________________________\n",
            "resUSC-C4i6_branch2c (Conv2D)   (None, 32, 64, 256)  33024       activation_25[0][0]              \n",
            "__________________________________________________________________________________________________\n",
            "bnUSC-C4i6_branch2c (BatchNorma (None, 32, 64, 256)  1024        resUSC-C4i6_branch2c[0][0]       \n",
            "__________________________________________________________________________________________________\n",
            "add_12 (Add)                    (None, 32, 64, 256)  0           bnUSC-C4i6_branch2c[0][0]        \n",
            "                                                                 resUSC-C4i5_out[0][0]            \n",
            "__________________________________________________________________________________________________\n",
            "resUSC-C4i6_out (Activation)    (None, 32, 64, 256)  0           add_12[0][0]                     \n",
            "__________________________________________________________________________________________________\n",
            "resUSC-C4i7_branch2a (Conv2D)   (None, 32, 64, 128)  32896       resUSC-C4i6_out[0][0]            \n",
            "__________________________________________________________________________________________________\n",
            "bnUSC-C4i7_branch2a (BatchNorma (None, 32, 64, 128)  512         resUSC-C4i7_branch2a[0][0]       \n",
            "__________________________________________________________________________________________________\n",
            "activation_26 (Activation)      (None, 32, 64, 128)  0           bnUSC-C4i7_branch2a[0][0]        \n",
            "__________________________________________________________________________________________________\n",
            "resUSC-C4i7_branch2b (Conv2D)   (None, 32, 64, 128)  147584      activation_26[0][0]              \n",
            "__________________________________________________________________________________________________\n",
            "bnUSC-C4i7_branch2b (BatchNorma (None, 32, 64, 128)  512         resUSC-C4i7_branch2b[0][0]       \n",
            "__________________________________________________________________________________________________\n",
            "activation_27 (Activation)      (None, 32, 64, 128)  0           bnUSC-C4i7_branch2b[0][0]        \n",
            "__________________________________________________________________________________________________\n",
            "resUSC-C4i7_branch2c (Conv2D)   (None, 32, 64, 256)  33024       activation_27[0][0]              \n",
            "__________________________________________________________________________________________________\n",
            "bnUSC-C4i7_branch2c (BatchNorma (None, 32, 64, 256)  1024        resUSC-C4i7_branch2c[0][0]       \n",
            "__________________________________________________________________________________________________\n",
            "add_13 (Add)                    (None, 32, 64, 256)  0           bnUSC-C4i7_branch2c[0][0]        \n",
            "                                                                 resUSC-C4i6_out[0][0]            \n",
            "__________________________________________________________________________________________________\n",
            "resUSC-C4i7_out (Activation)    (None, 32, 64, 256)  0           add_13[0][0]                     \n",
            "__________________________________________________________________________________________________\n",
            "resUSC-C4i8_branch2a (Conv2D)   (None, 32, 64, 128)  32896       resUSC-C4i7_out[0][0]            \n",
            "__________________________________________________________________________________________________\n",
            "bnUSC-C4i8_branch2a (BatchNorma (None, 32, 64, 128)  512         resUSC-C4i8_branch2a[0][0]       \n",
            "__________________________________________________________________________________________________\n",
            "activation_28 (Activation)      (None, 32, 64, 128)  0           bnUSC-C4i8_branch2a[0][0]        \n",
            "__________________________________________________________________________________________________\n",
            "resUSC-C4i8_branch2b (Conv2D)   (None, 32, 64, 128)  147584      activation_28[0][0]              \n",
            "__________________________________________________________________________________________________\n",
            "bnUSC-C4i8_branch2b (BatchNorma (None, 32, 64, 128)  512         resUSC-C4i8_branch2b[0][0]       \n",
            "__________________________________________________________________________________________________\n",
            "activation_29 (Activation)      (None, 32, 64, 128)  0           bnUSC-C4i8_branch2b[0][0]        \n",
            "__________________________________________________________________________________________________\n",
            "resUSC-C4i8_branch2c (Conv2D)   (None, 32, 64, 256)  33024       activation_29[0][0]              \n",
            "__________________________________________________________________________________________________\n",
            "bnUSC-C4i8_branch2c (BatchNorma (None, 32, 64, 256)  1024        resUSC-C4i8_branch2c[0][0]       \n",
            "__________________________________________________________________________________________________\n",
            "add_14 (Add)                    (None, 32, 64, 256)  0           bnUSC-C4i8_branch2c[0][0]        \n",
            "                                                                 resUSC-C4i7_out[0][0]            \n",
            "__________________________________________________________________________________________________\n",
            "resUSC-C4i8_out (Activation)    (None, 32, 64, 256)  0           add_14[0][0]                     \n",
            "__________________________________________________________________________________________________\n",
            "resUSC-C4i9_branch2a (Conv2D)   (None, 32, 64, 128)  32896       resUSC-C4i8_out[0][0]            \n",
            "__________________________________________________________________________________________________\n",
            "bnUSC-C4i9_branch2a (BatchNorma (None, 32, 64, 128)  512         resUSC-C4i9_branch2a[0][0]       \n",
            "__________________________________________________________________________________________________\n",
            "activation_30 (Activation)      (None, 32, 64, 128)  0           bnUSC-C4i9_branch2a[0][0]        \n",
            "__________________________________________________________________________________________________\n",
            "resUSC-C4i9_branch2b (Conv2D)   (None, 32, 64, 128)  147584      activation_30[0][0]              \n",
            "__________________________________________________________________________________________________\n",
            "bnUSC-C4i9_branch2b (BatchNorma (None, 32, 64, 128)  512         resUSC-C4i9_branch2b[0][0]       \n",
            "__________________________________________________________________________________________________\n",
            "activation_31 (Activation)      (None, 32, 64, 128)  0           bnUSC-C4i9_branch2b[0][0]        \n",
            "__________________________________________________________________________________________________\n",
            "resUSC-C4i9_branch2c (Conv2D)   (None, 32, 64, 256)  33024       activation_31[0][0]              \n",
            "__________________________________________________________________________________________________\n",
            "bnUSC-C4i9_branch2c (BatchNorma (None, 32, 64, 256)  1024        resUSC-C4i9_branch2c[0][0]       \n",
            "__________________________________________________________________________________________________\n",
            "add_15 (Add)                    (None, 32, 64, 256)  0           bnUSC-C4i9_branch2c[0][0]        \n",
            "                                                                 resUSC-C4i8_out[0][0]            \n",
            "__________________________________________________________________________________________________\n",
            "resUSC-C4i9_out (Activation)    (None, 32, 64, 256)  0           add_15[0][0]                     \n",
            "__________________________________________________________________________________________________\n",
            "max_pooling2d_3 (MaxPooling2D)  (None, 16, 32, 256)  0           resUSC-C4i9_out[0][0]            \n",
            "__________________________________________________________________________________________________\n",
            "USC-C5-seqconv- (SeqConv)       (None, 16, 32, 512)  755840      max_pooling2d_3[0][0]            \n",
            "__________________________________________________________________________________________________\n",
            "USC-C5-bn (BatchNormalization)  (None, 16, 32, 512)  2048        USC-C5-seqconv-[0][0]            \n",
            "__________________________________________________________________________________________________\n",
            "resUSC-C5i0_branch2a (Conv2D)   (None, 16, 32, 256)  131328      USC-C5-bn[0][0]                  \n",
            "__________________________________________________________________________________________________\n",
            "bnUSC-C5i0_branch2a (BatchNorma (None, 16, 32, 256)  1024        resUSC-C5i0_branch2a[0][0]       \n",
            "__________________________________________________________________________________________________\n",
            "activation_32 (Activation)      (None, 16, 32, 256)  0           bnUSC-C5i0_branch2a[0][0]        \n",
            "__________________________________________________________________________________________________\n",
            "resUSC-C5i0_branch2b (Conv2D)   (None, 16, 32, 256)  590080      activation_32[0][0]              \n",
            "__________________________________________________________________________________________________\n",
            "bnUSC-C5i0_branch2b (BatchNorma (None, 16, 32, 256)  1024        resUSC-C5i0_branch2b[0][0]       \n",
            "__________________________________________________________________________________________________\n",
            "activation_33 (Activation)      (None, 16, 32, 256)  0           bnUSC-C5i0_branch2b[0][0]        \n",
            "__________________________________________________________________________________________________\n",
            "resUSC-C5i0_branch2c (Conv2D)   (None, 16, 32, 512)  131584      activation_33[0][0]              \n",
            "__________________________________________________________________________________________________\n",
            "bnUSC-C5i0_branch2c (BatchNorma (None, 16, 32, 512)  2048        resUSC-C5i0_branch2c[0][0]       \n",
            "__________________________________________________________________________________________________\n",
            "add_16 (Add)                    (None, 16, 32, 512)  0           bnUSC-C5i0_branch2c[0][0]        \n",
            "                                                                 USC-C5-bn[0][0]                  \n",
            "__________________________________________________________________________________________________\n",
            "resUSC-C5i0_out (Activation)    (None, 16, 32, 512)  0           add_16[0][0]                     \n",
            "__________________________________________________________________________________________________\n",
            "resUSC-C5i1_branch2a (Conv2D)   (None, 16, 32, 256)  131328      resUSC-C5i0_out[0][0]            \n",
            "__________________________________________________________________________________________________\n",
            "bnUSC-C5i1_branch2a (BatchNorma (None, 16, 32, 256)  1024        resUSC-C5i1_branch2a[0][0]       \n",
            "__________________________________________________________________________________________________\n",
            "activation_34 (Activation)      (None, 16, 32, 256)  0           bnUSC-C5i1_branch2a[0][0]        \n",
            "__________________________________________________________________________________________________\n",
            "resUSC-C5i1_branch2b (Conv2D)   (None, 16, 32, 256)  590080      activation_34[0][0]              \n",
            "__________________________________________________________________________________________________\n",
            "bnUSC-C5i1_branch2b (BatchNorma (None, 16, 32, 256)  1024        resUSC-C5i1_branch2b[0][0]       \n",
            "__________________________________________________________________________________________________\n",
            "activation_35 (Activation)      (None, 16, 32, 256)  0           bnUSC-C5i1_branch2b[0][0]        \n",
            "__________________________________________________________________________________________________\n",
            "resUSC-C5i1_branch2c (Conv2D)   (None, 16, 32, 512)  131584      activation_35[0][0]              \n",
            "__________________________________________________________________________________________________\n",
            "bnUSC-C5i1_branch2c (BatchNorma (None, 16, 32, 512)  2048        resUSC-C5i1_branch2c[0][0]       \n",
            "__________________________________________________________________________________________________\n",
            "add_17 (Add)                    (None, 16, 32, 512)  0           bnUSC-C5i1_branch2c[0][0]        \n",
            "                                                                 resUSC-C5i0_out[0][0]            \n",
            "__________________________________________________________________________________________________\n",
            "resUSC-C5i1_out (Activation)    (None, 16, 32, 512)  0           add_17[0][0]                     \n",
            "__________________________________________________________________________________________________\n",
            "resUSC-C5i2_branch2a (Conv2D)   (None, 16, 32, 256)  131328      resUSC-C5i1_out[0][0]            \n",
            "__________________________________________________________________________________________________\n",
            "bnUSC-C5i2_branch2a (BatchNorma (None, 16, 32, 256)  1024        resUSC-C5i2_branch2a[0][0]       \n",
            "__________________________________________________________________________________________________\n",
            "activation_36 (Activation)      (None, 16, 32, 256)  0           bnUSC-C5i2_branch2a[0][0]        \n",
            "__________________________________________________________________________________________________\n",
            "resUSC-C5i2_branch2b (Conv2D)   (None, 16, 32, 256)  590080      activation_36[0][0]              \n",
            "__________________________________________________________________________________________________\n",
            "bnUSC-C5i2_branch2b (BatchNorma (None, 16, 32, 256)  1024        resUSC-C5i2_branch2b[0][0]       \n",
            "__________________________________________________________________________________________________\n",
            "activation_37 (Activation)      (None, 16, 32, 256)  0           bnUSC-C5i2_branch2b[0][0]        \n",
            "__________________________________________________________________________________________________\n",
            "resUSC-C5i2_branch2c (Conv2D)   (None, 16, 32, 512)  131584      activation_37[0][0]              \n",
            "__________________________________________________________________________________________________\n",
            "bnUSC-C5i2_branch2c (BatchNorma (None, 16, 32, 512)  2048        resUSC-C5i2_branch2c[0][0]       \n",
            "__________________________________________________________________________________________________\n",
            "add_18 (Add)                    (None, 16, 32, 512)  0           bnUSC-C5i2_branch2c[0][0]        \n",
            "                                                                 resUSC-C5i1_out[0][0]            \n",
            "__________________________________________________________________________________________________\n",
            "resUSC-C5i2_out (Activation)    (None, 16, 32, 512)  0           add_18[0][0]                     \n",
            "__________________________________________________________________________________________________\n",
            "resUSC-C5i3_branch2a (Conv2D)   (None, 16, 32, 256)  131328      resUSC-C5i2_out[0][0]            \n",
            "__________________________________________________________________________________________________\n",
            "bnUSC-C5i3_branch2a (BatchNorma (None, 16, 32, 256)  1024        resUSC-C5i3_branch2a[0][0]       \n",
            "__________________________________________________________________________________________________\n",
            "activation_38 (Activation)      (None, 16, 32, 256)  0           bnUSC-C5i3_branch2a[0][0]        \n",
            "__________________________________________________________________________________________________\n",
            "resUSC-C5i3_branch2b (Conv2D)   (None, 16, 32, 256)  590080      activation_38[0][0]              \n",
            "__________________________________________________________________________________________________\n",
            "bnUSC-C5i3_branch2b (BatchNorma (None, 16, 32, 256)  1024        resUSC-C5i3_branch2b[0][0]       \n",
            "__________________________________________________________________________________________________\n",
            "activation_39 (Activation)      (None, 16, 32, 256)  0           bnUSC-C5i3_branch2b[0][0]        \n",
            "__________________________________________________________________________________________________\n",
            "resUSC-C5i3_branch2c (Conv2D)   (None, 16, 32, 512)  131584      activation_39[0][0]              \n",
            "__________________________________________________________________________________________________\n",
            "bnUSC-C5i3_branch2c (BatchNorma (None, 16, 32, 512)  2048        resUSC-C5i3_branch2c[0][0]       \n",
            "__________________________________________________________________________________________________\n",
            "add_19 (Add)                    (None, 16, 32, 512)  0           bnUSC-C5i3_branch2c[0][0]        \n",
            "                                                                 resUSC-C5i2_out[0][0]            \n",
            "__________________________________________________________________________________________________\n",
            "resUSC-C5i3_out (Activation)    (None, 16, 32, 512)  0           add_19[0][0]                     \n",
            "__________________________________________________________________________________________________\n",
            "resUSC-C5i4_branch2a (Conv2D)   (None, 16, 32, 256)  131328      resUSC-C5i3_out[0][0]            \n",
            "__________________________________________________________________________________________________\n",
            "bnUSC-C5i4_branch2a (BatchNorma (None, 16, 32, 256)  1024        resUSC-C5i4_branch2a[0][0]       \n",
            "__________________________________________________________________________________________________\n",
            "activation_40 (Activation)      (None, 16, 32, 256)  0           bnUSC-C5i4_branch2a[0][0]        \n",
            "__________________________________________________________________________________________________\n",
            "resUSC-C5i4_branch2b (Conv2D)   (None, 16, 32, 256)  590080      activation_40[0][0]              \n",
            "__________________________________________________________________________________________________\n",
            "bnUSC-C5i4_branch2b (BatchNorma (None, 16, 32, 256)  1024        resUSC-C5i4_branch2b[0][0]       \n",
            "__________________________________________________________________________________________________\n",
            "activation_41 (Activation)      (None, 16, 32, 256)  0           bnUSC-C5i4_branch2b[0][0]        \n",
            "__________________________________________________________________________________________________\n",
            "resUSC-C5i4_branch2c (Conv2D)   (None, 16, 32, 512)  131584      activation_41[0][0]              \n",
            "__________________________________________________________________________________________________\n",
            "bnUSC-C5i4_branch2c (BatchNorma (None, 16, 32, 512)  2048        resUSC-C5i4_branch2c[0][0]       \n",
            "__________________________________________________________________________________________________\n",
            "add_20 (Add)                    (None, 16, 32, 512)  0           bnUSC-C5i4_branch2c[0][0]        \n",
            "                                                                 resUSC-C5i3_out[0][0]            \n",
            "__________________________________________________________________________________________________\n",
            "resUSC-C5i4_out (Activation)    (None, 16, 32, 512)  0           add_20[0][0]                     \n",
            "__________________________________________________________________________________________________\n",
            "resUSC-C5i5_branch2a (Conv2D)   (None, 16, 32, 256)  131328      resUSC-C5i4_out[0][0]            \n",
            "__________________________________________________________________________________________________\n",
            "bnUSC-C5i5_branch2a (BatchNorma (None, 16, 32, 256)  1024        resUSC-C5i5_branch2a[0][0]       \n",
            "__________________________________________________________________________________________________\n",
            "activation_42 (Activation)      (None, 16, 32, 256)  0           bnUSC-C5i5_branch2a[0][0]        \n",
            "__________________________________________________________________________________________________\n",
            "resUSC-C5i5_branch2b (Conv2D)   (None, 16, 32, 256)  590080      activation_42[0][0]              \n",
            "__________________________________________________________________________________________________\n",
            "bnUSC-C5i5_branch2b (BatchNorma (None, 16, 32, 256)  1024        resUSC-C5i5_branch2b[0][0]       \n",
            "__________________________________________________________________________________________________\n",
            "activation_43 (Activation)      (None, 16, 32, 256)  0           bnUSC-C5i5_branch2b[0][0]        \n",
            "__________________________________________________________________________________________________\n",
            "resUSC-C5i5_branch2c (Conv2D)   (None, 16, 32, 512)  131584      activation_43[0][0]              \n",
            "__________________________________________________________________________________________________\n",
            "bnUSC-C5i5_branch2c (BatchNorma (None, 16, 32, 512)  2048        resUSC-C5i5_branch2c[0][0]       \n",
            "__________________________________________________________________________________________________\n",
            "add_21 (Add)                    (None, 16, 32, 512)  0           bnUSC-C5i5_branch2c[0][0]        \n",
            "                                                                 resUSC-C5i4_out[0][0]            \n",
            "__________________________________________________________________________________________________\n",
            "resUSC-C5i5_out (Activation)    (None, 16, 32, 512)  0           add_21[0][0]                     \n",
            "__________________________________________________________________________________________________\n",
            "resUSC-C5i6_branch2a (Conv2D)   (None, 16, 32, 256)  131328      resUSC-C5i5_out[0][0]            \n",
            "__________________________________________________________________________________________________\n",
            "bnUSC-C5i6_branch2a (BatchNorma (None, 16, 32, 256)  1024        resUSC-C5i6_branch2a[0][0]       \n",
            "__________________________________________________________________________________________________\n",
            "activation_44 (Activation)      (None, 16, 32, 256)  0           bnUSC-C5i6_branch2a[0][0]        \n",
            "__________________________________________________________________________________________________\n",
            "resUSC-C5i6_branch2b (Conv2D)   (None, 16, 32, 256)  590080      activation_44[0][0]              \n",
            "__________________________________________________________________________________________________\n",
            "bnUSC-C5i6_branch2b (BatchNorma (None, 16, 32, 256)  1024        resUSC-C5i6_branch2b[0][0]       \n",
            "__________________________________________________________________________________________________\n",
            "activation_45 (Activation)      (None, 16, 32, 256)  0           bnUSC-C5i6_branch2b[0][0]        \n",
            "__________________________________________________________________________________________________\n",
            "resUSC-C5i6_branch2c (Conv2D)   (None, 16, 32, 512)  131584      activation_45[0][0]              \n",
            "__________________________________________________________________________________________________\n",
            "bnUSC-C5i6_branch2c (BatchNorma (None, 16, 32, 512)  2048        resUSC-C5i6_branch2c[0][0]       \n",
            "__________________________________________________________________________________________________\n",
            "add_22 (Add)                    (None, 16, 32, 512)  0           bnUSC-C5i6_branch2c[0][0]        \n",
            "                                                                 resUSC-C5i5_out[0][0]            \n",
            "__________________________________________________________________________________________________\n",
            "resUSC-C5i6_out (Activation)    (None, 16, 32, 512)  0           add_22[0][0]                     \n",
            "__________________________________________________________________________________________________\n",
            "resUSC-C5i7_branch2a (Conv2D)   (None, 16, 32, 256)  131328      resUSC-C5i6_out[0][0]            \n",
            "__________________________________________________________________________________________________\n",
            "bnUSC-C5i7_branch2a (BatchNorma (None, 16, 32, 256)  1024        resUSC-C5i7_branch2a[0][0]       \n",
            "__________________________________________________________________________________________________\n",
            "activation_46 (Activation)      (None, 16, 32, 256)  0           bnUSC-C5i7_branch2a[0][0]        \n",
            "__________________________________________________________________________________________________\n",
            "resUSC-C5i7_branch2b (Conv2D)   (None, 16, 32, 256)  590080      activation_46[0][0]              \n",
            "__________________________________________________________________________________________________\n",
            "bnUSC-C5i7_branch2b (BatchNorma (None, 16, 32, 256)  1024        resUSC-C5i7_branch2b[0][0]       \n",
            "__________________________________________________________________________________________________\n",
            "activation_47 (Activation)      (None, 16, 32, 256)  0           bnUSC-C5i7_branch2b[0][0]        \n",
            "__________________________________________________________________________________________________\n",
            "resUSC-C5i7_branch2c (Conv2D)   (None, 16, 32, 512)  131584      activation_47[0][0]              \n",
            "__________________________________________________________________________________________________\n",
            "bnUSC-C5i7_branch2c (BatchNorma (None, 16, 32, 512)  2048        resUSC-C5i7_branch2c[0][0]       \n",
            "__________________________________________________________________________________________________\n",
            "add_23 (Add)                    (None, 16, 32, 512)  0           bnUSC-C5i7_branch2c[0][0]        \n",
            "                                                                 resUSC-C5i6_out[0][0]            \n",
            "__________________________________________________________________________________________________\n",
            "resUSC-C5i7_out (Activation)    (None, 16, 32, 512)  0           add_23[0][0]                     \n",
            "__________________________________________________________________________________________________\n",
            "resUSC-C5i8_branch2a (Conv2D)   (None, 16, 32, 256)  131328      resUSC-C5i7_out[0][0]            \n",
            "__________________________________________________________________________________________________\n",
            "bnUSC-C5i8_branch2a (BatchNorma (None, 16, 32, 256)  1024        resUSC-C5i8_branch2a[0][0]       \n",
            "__________________________________________________________________________________________________\n",
            "activation_48 (Activation)      (None, 16, 32, 256)  0           bnUSC-C5i8_branch2a[0][0]        \n",
            "__________________________________________________________________________________________________\n",
            "resUSC-C5i8_branch2b (Conv2D)   (None, 16, 32, 256)  590080      activation_48[0][0]              \n",
            "__________________________________________________________________________________________________\n",
            "bnUSC-C5i8_branch2b (BatchNorma (None, 16, 32, 256)  1024        resUSC-C5i8_branch2b[0][0]       \n",
            "__________________________________________________________________________________________________\n",
            "activation_49 (Activation)      (None, 16, 32, 256)  0           bnUSC-C5i8_branch2b[0][0]        \n",
            "__________________________________________________________________________________________________\n",
            "resUSC-C5i8_branch2c (Conv2D)   (None, 16, 32, 512)  131584      activation_49[0][0]              \n",
            "__________________________________________________________________________________________________\n",
            "bnUSC-C5i8_branch2c (BatchNorma (None, 16, 32, 512)  2048        resUSC-C5i8_branch2c[0][0]       \n",
            "__________________________________________________________________________________________________\n",
            "add_24 (Add)                    (None, 16, 32, 512)  0           bnUSC-C5i8_branch2c[0][0]        \n",
            "                                                                 resUSC-C5i7_out[0][0]            \n",
            "__________________________________________________________________________________________________\n",
            "resUSC-C5i8_out (Activation)    (None, 16, 32, 512)  0           add_24[0][0]                     \n",
            "__________________________________________________________________________________________________\n",
            "resUSC-C5i9_branch2a (Conv2D)   (None, 16, 32, 256)  131328      resUSC-C5i8_out[0][0]            \n",
            "__________________________________________________________________________________________________\n",
            "bnUSC-C5i9_branch2a (BatchNorma (None, 16, 32, 256)  1024        resUSC-C5i9_branch2a[0][0]       \n",
            "__________________________________________________________________________________________________\n",
            "activation_50 (Activation)      (None, 16, 32, 256)  0           bnUSC-C5i9_branch2a[0][0]        \n",
            "__________________________________________________________________________________________________\n",
            "resUSC-C5i9_branch2b (Conv2D)   (None, 16, 32, 256)  590080      activation_50[0][0]              \n",
            "__________________________________________________________________________________________________\n",
            "bnUSC-C5i9_branch2b (BatchNorma (None, 16, 32, 256)  1024        resUSC-C5i9_branch2b[0][0]       \n",
            "__________________________________________________________________________________________________\n",
            "activation_51 (Activation)      (None, 16, 32, 256)  0           bnUSC-C5i9_branch2b[0][0]        \n",
            "__________________________________________________________________________________________________\n",
            "resUSC-C5i9_branch2c (Conv2D)   (None, 16, 32, 512)  131584      activation_51[0][0]              \n",
            "__________________________________________________________________________________________________\n",
            "bnUSC-C5i9_branch2c (BatchNorma (None, 16, 32, 512)  2048        resUSC-C5i9_branch2c[0][0]       \n",
            "__________________________________________________________________________________________________\n",
            "add_25 (Add)                    (None, 16, 32, 512)  0           bnUSC-C5i9_branch2c[0][0]        \n",
            "                                                                 resUSC-C5i8_out[0][0]            \n",
            "__________________________________________________________________________________________________\n",
            "resUSC-C5i9_out (Activation)    (None, 16, 32, 512)  0           add_25[0][0]                     \n",
            "__________________________________________________________________________________________________\n",
            "resUSC-C5i10_branch2a (Conv2D)  (None, 16, 32, 256)  131328      resUSC-C5i9_out[0][0]            \n",
            "__________________________________________________________________________________________________\n",
            "bnUSC-C5i10_branch2a (BatchNorm (None, 16, 32, 256)  1024        resUSC-C5i10_branch2a[0][0]      \n",
            "__________________________________________________________________________________________________\n",
            "activation_52 (Activation)      (None, 16, 32, 256)  0           bnUSC-C5i10_branch2a[0][0]       \n",
            "__________________________________________________________________________________________________\n",
            "resUSC-C5i10_branch2b (Conv2D)  (None, 16, 32, 256)  590080      activation_52[0][0]              \n",
            "__________________________________________________________________________________________________\n",
            "bnUSC-C5i10_branch2b (BatchNorm (None, 16, 32, 256)  1024        resUSC-C5i10_branch2b[0][0]      \n",
            "__________________________________________________________________________________________________\n",
            "activation_53 (Activation)      (None, 16, 32, 256)  0           bnUSC-C5i10_branch2b[0][0]       \n",
            "__________________________________________________________________________________________________\n",
            "resUSC-C5i10_branch2c (Conv2D)  (None, 16, 32, 512)  131584      activation_53[0][0]              \n",
            "__________________________________________________________________________________________________\n",
            "bnUSC-C5i10_branch2c (BatchNorm (None, 16, 32, 512)  2048        resUSC-C5i10_branch2c[0][0]      \n",
            "__________________________________________________________________________________________________\n",
            "add_26 (Add)                    (None, 16, 32, 512)  0           bnUSC-C5i10_branch2c[0][0]       \n",
            "                                                                 resUSC-C5i9_out[0][0]            \n",
            "__________________________________________________________________________________________________\n",
            "resUSC-C5i10_out (Activation)   (None, 16, 32, 512)  0           add_26[0][0]                     \n",
            "__________________________________________________________________________________________________\n",
            "resUSC-C5i11_branch2a (Conv2D)  (None, 16, 32, 256)  131328      resUSC-C5i10_out[0][0]           \n",
            "__________________________________________________________________________________________________\n",
            "bnUSC-C5i11_branch2a (BatchNorm (None, 16, 32, 256)  1024        resUSC-C5i11_branch2a[0][0]      \n",
            "__________________________________________________________________________________________________\n",
            "activation_54 (Activation)      (None, 16, 32, 256)  0           bnUSC-C5i11_branch2a[0][0]       \n",
            "__________________________________________________________________________________________________\n",
            "resUSC-C5i11_branch2b (Conv2D)  (None, 16, 32, 256)  590080      activation_54[0][0]              \n",
            "__________________________________________________________________________________________________\n",
            "bnUSC-C5i11_branch2b (BatchNorm (None, 16, 32, 256)  1024        resUSC-C5i11_branch2b[0][0]      \n",
            "__________________________________________________________________________________________________\n",
            "activation_55 (Activation)      (None, 16, 32, 256)  0           bnUSC-C5i11_branch2b[0][0]       \n",
            "__________________________________________________________________________________________________\n",
            "resUSC-C5i11_branch2c (Conv2D)  (None, 16, 32, 512)  131584      activation_55[0][0]              \n",
            "__________________________________________________________________________________________________\n",
            "bnUSC-C5i11_branch2c (BatchNorm (None, 16, 32, 512)  2048        resUSC-C5i11_branch2c[0][0]      \n",
            "__________________________________________________________________________________________________\n",
            "add_27 (Add)                    (None, 16, 32, 512)  0           bnUSC-C5i11_branch2c[0][0]       \n",
            "                                                                 resUSC-C5i10_out[0][0]           \n",
            "__________________________________________________________________________________________________\n",
            "resUSC-C5i11_out (Activation)   (None, 16, 32, 512)  0           add_27[0][0]                     \n",
            "__________________________________________________________________________________________________\n",
            "resUSC-C5i12_branch2a (Conv2D)  (None, 16, 32, 256)  131328      resUSC-C5i11_out[0][0]           \n",
            "__________________________________________________________________________________________________\n",
            "bnUSC-C5i12_branch2a (BatchNorm (None, 16, 32, 256)  1024        resUSC-C5i12_branch2a[0][0]      \n",
            "__________________________________________________________________________________________________\n",
            "activation_56 (Activation)      (None, 16, 32, 256)  0           bnUSC-C5i12_branch2a[0][0]       \n",
            "__________________________________________________________________________________________________\n",
            "resUSC-C5i12_branch2b (Conv2D)  (None, 16, 32, 256)  590080      activation_56[0][0]              \n",
            "__________________________________________________________________________________________________\n",
            "bnUSC-C5i12_branch2b (BatchNorm (None, 16, 32, 256)  1024        resUSC-C5i12_branch2b[0][0]      \n",
            "__________________________________________________________________________________________________\n",
            "activation_57 (Activation)      (None, 16, 32, 256)  0           bnUSC-C5i12_branch2b[0][0]       \n",
            "__________________________________________________________________________________________________\n",
            "resUSC-C5i12_branch2c (Conv2D)  (None, 16, 32, 512)  131584      activation_57[0][0]              \n",
            "__________________________________________________________________________________________________\n",
            "bnUSC-C5i12_branch2c (BatchNorm (None, 16, 32, 512)  2048        resUSC-C5i12_branch2c[0][0]      \n",
            "__________________________________________________________________________________________________\n",
            "add_28 (Add)                    (None, 16, 32, 512)  0           bnUSC-C5i12_branch2c[0][0]       \n",
            "                                                                 resUSC-C5i11_out[0][0]           \n",
            "__________________________________________________________________________________________________\n",
            "resUSC-C5i12_out (Activation)   (None, 16, 32, 512)  0           add_28[0][0]                     \n",
            "__________________________________________________________________________________________________\n",
            "resUSC-C5i13_branch2a (Conv2D)  (None, 16, 32, 256)  131328      resUSC-C5i12_out[0][0]           \n",
            "__________________________________________________________________________________________________\n",
            "bnUSC-C5i13_branch2a (BatchNorm (None, 16, 32, 256)  1024        resUSC-C5i13_branch2a[0][0]      \n",
            "__________________________________________________________________________________________________\n",
            "activation_58 (Activation)      (None, 16, 32, 256)  0           bnUSC-C5i13_branch2a[0][0]       \n",
            "__________________________________________________________________________________________________\n",
            "resUSC-C5i13_branch2b (Conv2D)  (None, 16, 32, 256)  590080      activation_58[0][0]              \n",
            "__________________________________________________________________________________________________\n",
            "bnUSC-C5i13_branch2b (BatchNorm (None, 16, 32, 256)  1024        resUSC-C5i13_branch2b[0][0]      \n",
            "__________________________________________________________________________________________________\n",
            "activation_59 (Activation)      (None, 16, 32, 256)  0           bnUSC-C5i13_branch2b[0][0]       \n",
            "__________________________________________________________________________________________________\n",
            "resUSC-C5i13_branch2c (Conv2D)  (None, 16, 32, 512)  131584      activation_59[0][0]              \n",
            "__________________________________________________________________________________________________\n",
            "bnUSC-C5i13_branch2c (BatchNorm (None, 16, 32, 512)  2048        resUSC-C5i13_branch2c[0][0]      \n",
            "__________________________________________________________________________________________________\n",
            "add_29 (Add)                    (None, 16, 32, 512)  0           bnUSC-C5i13_branch2c[0][0]       \n",
            "                                                                 resUSC-C5i12_out[0][0]           \n",
            "__________________________________________________________________________________________________\n",
            "resUSC-C5i13_out (Activation)   (None, 16, 32, 512)  0           add_29[0][0]                     \n",
            "__________________________________________________________________________________________________\n",
            "resUSC-C5i14_branch2a (Conv2D)  (None, 16, 32, 256)  131328      resUSC-C5i13_out[0][0]           \n",
            "__________________________________________________________________________________________________\n",
            "bnUSC-C5i14_branch2a (BatchNorm (None, 16, 32, 256)  1024        resUSC-C5i14_branch2a[0][0]      \n",
            "__________________________________________________________________________________________________\n",
            "activation_60 (Activation)      (None, 16, 32, 256)  0           bnUSC-C5i14_branch2a[0][0]       \n",
            "__________________________________________________________________________________________________\n",
            "resUSC-C5i14_branch2b (Conv2D)  (None, 16, 32, 256)  590080      activation_60[0][0]              \n",
            "__________________________________________________________________________________________________\n",
            "bnUSC-C5i14_branch2b (BatchNorm (None, 16, 32, 256)  1024        resUSC-C5i14_branch2b[0][0]      \n",
            "__________________________________________________________________________________________________\n",
            "activation_61 (Activation)      (None, 16, 32, 256)  0           bnUSC-C5i14_branch2b[0][0]       \n",
            "__________________________________________________________________________________________________\n",
            "resUSC-C5i14_branch2c (Conv2D)  (None, 16, 32, 512)  131584      activation_61[0][0]              \n",
            "__________________________________________________________________________________________________\n",
            "bnUSC-C5i14_branch2c (BatchNorm (None, 16, 32, 512)  2048        resUSC-C5i14_branch2c[0][0]      \n",
            "__________________________________________________________________________________________________\n",
            "add_30 (Add)                    (None, 16, 32, 512)  0           bnUSC-C5i14_branch2c[0][0]       \n",
            "                                                                 resUSC-C5i13_out[0][0]           \n",
            "__________________________________________________________________________________________________\n",
            "resUSC-C5i14_out (Activation)   (None, 16, 32, 512)  0           add_30[0][0]                     \n",
            "__________________________________________________________________________________________________\n",
            "resUSC-C5i15_branch2a (Conv2D)  (None, 16, 32, 256)  131328      resUSC-C5i14_out[0][0]           \n",
            "__________________________________________________________________________________________________\n",
            "bnUSC-C5i15_branch2a (BatchNorm (None, 16, 32, 256)  1024        resUSC-C5i15_branch2a[0][0]      \n",
            "__________________________________________________________________________________________________\n",
            "activation_62 (Activation)      (None, 16, 32, 256)  0           bnUSC-C5i15_branch2a[0][0]       \n",
            "__________________________________________________________________________________________________\n",
            "resUSC-C5i15_branch2b (Conv2D)  (None, 16, 32, 256)  590080      activation_62[0][0]              \n",
            "__________________________________________________________________________________________________\n",
            "bnUSC-C5i15_branch2b (BatchNorm (None, 16, 32, 256)  1024        resUSC-C5i15_branch2b[0][0]      \n",
            "__________________________________________________________________________________________________\n",
            "activation_63 (Activation)      (None, 16, 32, 256)  0           bnUSC-C5i15_branch2b[0][0]       \n",
            "__________________________________________________________________________________________________\n",
            "resUSC-C5i15_branch2c (Conv2D)  (None, 16, 32, 512)  131584      activation_63[0][0]              \n",
            "__________________________________________________________________________________________________\n",
            "bnUSC-C5i15_branch2c (BatchNorm (None, 16, 32, 512)  2048        resUSC-C5i15_branch2c[0][0]      \n",
            "__________________________________________________________________________________________________\n",
            "add_31 (Add)                    (None, 16, 32, 512)  0           bnUSC-C5i15_branch2c[0][0]       \n",
            "                                                                 resUSC-C5i14_out[0][0]           \n",
            "__________________________________________________________________________________________________\n",
            "resUSC-C5i15_out (Activation)   (None, 16, 32, 512)  0           add_31[0][0]                     \n",
            "__________________________________________________________________________________________________\n",
            "resUSC-C5i16_branch2a (Conv2D)  (None, 16, 32, 256)  131328      resUSC-C5i15_out[0][0]           \n",
            "__________________________________________________________________________________________________\n",
            "bnUSC-C5i16_branch2a (BatchNorm (None, 16, 32, 256)  1024        resUSC-C5i16_branch2a[0][0]      \n",
            "__________________________________________________________________________________________________\n",
            "activation_64 (Activation)      (None, 16, 32, 256)  0           bnUSC-C5i16_branch2a[0][0]       \n",
            "__________________________________________________________________________________________________\n",
            "resUSC-C5i16_branch2b (Conv2D)  (None, 16, 32, 256)  590080      activation_64[0][0]              \n",
            "__________________________________________________________________________________________________\n",
            "bnUSC-C5i16_branch2b (BatchNorm (None, 16, 32, 256)  1024        resUSC-C5i16_branch2b[0][0]      \n",
            "__________________________________________________________________________________________________\n",
            "activation_65 (Activation)      (None, 16, 32, 256)  0           bnUSC-C5i16_branch2b[0][0]       \n",
            "__________________________________________________________________________________________________\n",
            "resUSC-C5i16_branch2c (Conv2D)  (None, 16, 32, 512)  131584      activation_65[0][0]              \n",
            "__________________________________________________________________________________________________\n",
            "bnUSC-C5i16_branch2c (BatchNorm (None, 16, 32, 512)  2048        resUSC-C5i16_branch2c[0][0]      \n",
            "__________________________________________________________________________________________________\n",
            "add_32 (Add)                    (None, 16, 32, 512)  0           bnUSC-C5i16_branch2c[0][0]       \n",
            "                                                                 resUSC-C5i15_out[0][0]           \n",
            "__________________________________________________________________________________________________\n",
            "resUSC-C5i16_out (Activation)   (None, 16, 32, 512)  0           add_32[0][0]                     \n",
            "__________________________________________________________________________________________________\n",
            "resUSC-C5i17_branch2a (Conv2D)  (None, 16, 32, 256)  131328      resUSC-C5i16_out[0][0]           \n",
            "__________________________________________________________________________________________________\n",
            "bnUSC-C5i17_branch2a (BatchNorm (None, 16, 32, 256)  1024        resUSC-C5i17_branch2a[0][0]      \n",
            "__________________________________________________________________________________________________\n",
            "activation_66 (Activation)      (None, 16, 32, 256)  0           bnUSC-C5i17_branch2a[0][0]       \n",
            "__________________________________________________________________________________________________\n",
            "resUSC-C5i17_branch2b (Conv2D)  (None, 16, 32, 256)  590080      activation_66[0][0]              \n",
            "__________________________________________________________________________________________________\n",
            "bnUSC-C5i17_branch2b (BatchNorm (None, 16, 32, 256)  1024        resUSC-C5i17_branch2b[0][0]      \n",
            "__________________________________________________________________________________________________\n",
            "activation_67 (Activation)      (None, 16, 32, 256)  0           bnUSC-C5i17_branch2b[0][0]       \n",
            "__________________________________________________________________________________________________\n",
            "resUSC-C5i17_branch2c (Conv2D)  (None, 16, 32, 512)  131584      activation_67[0][0]              \n",
            "__________________________________________________________________________________________________\n",
            "bnUSC-C5i17_branch2c (BatchNorm (None, 16, 32, 512)  2048        resUSC-C5i17_branch2c[0][0]      \n",
            "__________________________________________________________________________________________________\n",
            "add_33 (Add)                    (None, 16, 32, 512)  0           bnUSC-C5i17_branch2c[0][0]       \n",
            "                                                                 resUSC-C5i16_out[0][0]           \n",
            "__________________________________________________________________________________________________\n",
            "resUSC-C5i17_out (Activation)   (None, 16, 32, 512)  0           add_33[0][0]                     \n",
            "__________________________________________________________________________________________________\n",
            "resUSC-C5i18_branch2a (Conv2D)  (None, 16, 32, 256)  131328      resUSC-C5i17_out[0][0]           \n",
            "__________________________________________________________________________________________________\n",
            "bnUSC-C5i18_branch2a (BatchNorm (None, 16, 32, 256)  1024        resUSC-C5i18_branch2a[0][0]      \n",
            "__________________________________________________________________________________________________\n",
            "activation_68 (Activation)      (None, 16, 32, 256)  0           bnUSC-C5i18_branch2a[0][0]       \n",
            "__________________________________________________________________________________________________\n",
            "resUSC-C5i18_branch2b (Conv2D)  (None, 16, 32, 256)  590080      activation_68[0][0]              \n",
            "__________________________________________________________________________________________________\n",
            "bnUSC-C5i18_branch2b (BatchNorm (None, 16, 32, 256)  1024        resUSC-C5i18_branch2b[0][0]      \n",
            "__________________________________________________________________________________________________\n",
            "activation_69 (Activation)      (None, 16, 32, 256)  0           bnUSC-C5i18_branch2b[0][0]       \n",
            "__________________________________________________________________________________________________\n",
            "resUSC-C5i18_branch2c (Conv2D)  (None, 16, 32, 512)  131584      activation_69[0][0]              \n",
            "__________________________________________________________________________________________________\n",
            "bnUSC-C5i18_branch2c (BatchNorm (None, 16, 32, 512)  2048        resUSC-C5i18_branch2c[0][0]      \n",
            "__________________________________________________________________________________________________\n",
            "add_34 (Add)                    (None, 16, 32, 512)  0           bnUSC-C5i18_branch2c[0][0]       \n",
            "                                                                 resUSC-C5i17_out[0][0]           \n",
            "__________________________________________________________________________________________________\n",
            "resUSC-C5i18_out (Activation)   (None, 16, 32, 512)  0           add_34[0][0]                     \n",
            "__________________________________________________________________________________________________\n",
            "resUSC-C5i19_branch2a (Conv2D)  (None, 16, 32, 256)  131328      resUSC-C5i18_out[0][0]           \n",
            "__________________________________________________________________________________________________\n",
            "bnUSC-C5i19_branch2a (BatchNorm (None, 16, 32, 256)  1024        resUSC-C5i19_branch2a[0][0]      \n",
            "__________________________________________________________________________________________________\n",
            "activation_70 (Activation)      (None, 16, 32, 256)  0           bnUSC-C5i19_branch2a[0][0]       \n",
            "__________________________________________________________________________________________________\n",
            "resUSC-C5i19_branch2b (Conv2D)  (None, 16, 32, 256)  590080      activation_70[0][0]              \n",
            "__________________________________________________________________________________________________\n",
            "bnUSC-C5i19_branch2b (BatchNorm (None, 16, 32, 256)  1024        resUSC-C5i19_branch2b[0][0]      \n",
            "__________________________________________________________________________________________________\n",
            "activation_71 (Activation)      (None, 16, 32, 256)  0           bnUSC-C5i19_branch2b[0][0]       \n",
            "__________________________________________________________________________________________________\n",
            "resUSC-C5i19_branch2c (Conv2D)  (None, 16, 32, 512)  131584      activation_71[0][0]              \n",
            "__________________________________________________________________________________________________\n",
            "bnUSC-C5i19_branch2c (BatchNorm (None, 16, 32, 512)  2048        resUSC-C5i19_branch2c[0][0]      \n",
            "__________________________________________________________________________________________________\n",
            "add_35 (Add)                    (None, 16, 32, 512)  0           bnUSC-C5i19_branch2c[0][0]       \n",
            "                                                                 resUSC-C5i18_out[0][0]           \n",
            "__________________________________________________________________________________________________\n",
            "resUSC-C5i19_out (Activation)   (None, 16, 32, 512)  0           add_35[0][0]                     \n",
            "__________________________________________________________________________________________________\n",
            "max_pooling2d_4 (MaxPooling2D)  (None, 8, 16, 512)   0           resUSC-C5i19_out[0][0]           \n",
            "__________________________________________________________________________________________________\n",
            "USC-C6P6-conv01 (Conv2D)        (None, 8, 16, 512)   2359808     max_pooling2d_4[0][0]            \n",
            "__________________________________________________________________________________________________\n",
            "USC-C6P6-bn1 (BatchNormalizatio (None, 8, 16, 512)   2048        USC-C6P6-conv01[0][0]            \n",
            "__________________________________________________________________________________________________\n",
            "USC-C6P6conv11 (Conv2D)         (None, 8, 16, 512)   2359808     USC-C6P6-bn1[0][0]               \n",
            "__________________________________________________________________________________________________\n",
            "USC-C6P6-bn2 (BatchNormalizatio (None, 8, 16, 512)   2048        USC-C6P6conv11[0][0]             \n",
            "__________________________________________________________________________________________________\n",
            "up_sampling2d (UpSampling2D)    (None, 16, 32, 512)  0           USC-C6P6-bn2[0][0]               \n",
            "__________________________________________________________________________________________________\n",
            "USC-concatP6C5 (Concatenate)    (None, 16, 32, 1024) 0           up_sampling2d[0][0]              \n",
            "                                                                 resUSC-C5i19_out[0][0]           \n",
            "__________________________________________________________________________________________________\n",
            "USC-P5-conv01 (Conv2D)          (None, 16, 32, 512)  4719104     USC-concatP6C5[0][0]             \n",
            "__________________________________________________________________________________________________\n",
            "USC-P5-bn1 (BatchNormalization) (None, 16, 32, 512)  2048        USC-P5-conv01[0][0]              \n",
            "__________________________________________________________________________________________________\n",
            "USC-P5-seqconv- (SeqConv)       (None, 16, 32, 512)  1181824     USC-P5-bn1[0][0]                 \n",
            "__________________________________________________________________________________________________\n",
            "USC-P5-bnseqconv (BatchNormaliz (None, 16, 32, 512)  2048        USC-P5-seqconv-[0][0]            \n",
            "__________________________________________________________________________________________________\n",
            "USC-P5conv11 (Conv2D)           (None, 16, 32, 512)  2359808     USC-P5-bnseqconv[0][0]           \n",
            "__________________________________________________________________________________________________\n",
            "USC-P5-bn2 (BatchNormalization) (None, 16, 32, 512)  2048        USC-P5conv11[0][0]               \n",
            "__________________________________________________________________________________________________\n",
            "up_sampling2d_1 (UpSampling2D)  (None, 32, 64, 512)  0           USC-P5-bn2[0][0]                 \n",
            "__________________________________________________________________________________________________\n",
            "USC-concatP5C4 (Concatenate)    (None, 32, 64, 768)  0           up_sampling2d_1[0][0]            \n",
            "                                                                 resUSC-C4i9_out[0][0]            \n",
            "__________________________________________________________________________________________________\n",
            "USC-P4-conv01 (Conv2D)          (None, 32, 64, 512)  3539456     USC-concatP5C4[0][0]             \n",
            "__________________________________________________________________________________________________\n",
            "USC-P4-bn1 (BatchNormalization) (None, 32, 64, 512)  2048        USC-P4-conv01[0][0]              \n",
            "__________________________________________________________________________________________________\n",
            "USC-P4-seqconv- (SeqConv)       (None, 32, 64, 512)  455584      USC-P4-bn1[0][0]                 \n",
            "__________________________________________________________________________________________________\n",
            "USC-P4-bnseqconv (BatchNormaliz (None, 32, 64, 512)  2048        USC-P4-seqconv-[0][0]            \n",
            "__________________________________________________________________________________________________\n",
            "USC-P4conv11 (Conv2D)           (None, 32, 64, 512)  2359808     USC-P4-bnseqconv[0][0]           \n",
            "__________________________________________________________________________________________________\n",
            "USC-P4-bn2 (BatchNormalization) (None, 32, 64, 512)  2048        USC-P4conv11[0][0]               \n",
            "__________________________________________________________________________________________________\n",
            "up_sampling2d_2 (UpSampling2D)  (None, 64, 128, 512) 0           USC-P4-bn2[0][0]                 \n",
            "__________________________________________________________________________________________________\n",
            "USC-concatP4C3 (Concatenate)    (None, 64, 128, 768) 0           up_sampling2d_2[0][0]            \n",
            "                                                                 resUSC-C3i4_out[0][0]            \n",
            "__________________________________________________________________________________________________\n",
            "USC-P3-conv01 (Conv2D)          (None, 64, 128, 256) 1769728     USC-concatP4C3[0][0]             \n",
            "__________________________________________________________________________________________________\n",
            "USC-P3-bn1 (BatchNormalization) (None, 64, 128, 256) 1024        USC-P3-conv01[0][0]              \n",
            "__________________________________________________________________________________________________\n",
            "USC-P3conv11 (Conv2D)           (None, 64, 128, 256) 590080      USC-P3-bn1[0][0]                 \n",
            "__________________________________________________________________________________________________\n",
            "USC-P3-bn2 (BatchNormalization) (None, 64, 128, 256) 1024        USC-P3conv11[0][0]               \n",
            "__________________________________________________________________________________________________\n",
            "up_sampling2d_3 (UpSampling2D)  (None, 128, 256, 256 0           USC-P3-bn2[0][0]                 \n",
            "__________________________________________________________________________________________________\n",
            "USC-concatP3C2 (Concatenate)    (None, 128, 256, 384 0           up_sampling2d_3[0][0]            \n",
            "                                                                 USC-C2-bn2[0][0]                 \n",
            "__________________________________________________________________________________________________\n",
            "USC-P2-conv01 (Conv2D)          (None, 128, 256, 256 884992      USC-concatP3C2[0][0]             \n",
            "__________________________________________________________________________________________________\n",
            "USC-P2-bn1 (BatchNormalization) (None, 128, 256, 256 1024        USC-P2-conv01[0][0]              \n",
            "__________________________________________________________________________________________________\n",
            "USC-P2conv11 (Conv2D)           (None, 128, 256, 256 590080      USC-P2-bn1[0][0]                 \n",
            "__________________________________________________________________________________________________\n",
            "USC-P2-bn2 (BatchNormalization) (None, 128, 256, 256 1024        USC-P2conv11[0][0]               \n",
            "__________________________________________________________________________________________________\n",
            "up_sampling2d_4 (UpSampling2D)  (None, 256, 512, 256 0           USC-P2-bn2[0][0]                 \n",
            "__________________________________________________________________________________________________\n",
            "USC-concatP2C1 (Concatenate)    (None, 256, 512, 320 0           up_sampling2d_4[0][0]            \n",
            "                                                                 USC-C1-bn2[0][0]                 \n",
            "__________________________________________________________________________________________________\n",
            "USC-P1-conv01 (Conv2D)          (None, 256, 512, 128 368768      USC-concatP2C1[0][0]             \n",
            "__________________________________________________________________________________________________\n",
            "USC-P1-bn1 (BatchNormalization) (None, 256, 512, 128 512         USC-P1-conv01[0][0]              \n",
            "__________________________________________________________________________________________________\n",
            "USC-P1conv11 (Conv2D)           (None, 256, 512, 128 147584      USC-P1-bn1[0][0]                 \n",
            "__________________________________________________________________________________________________\n",
            "USC-P1-bn2 (BatchNormalization) (None, 256, 512, 128 512         USC-P1conv11[0][0]               \n",
            "__________________________________________________________________________________________________\n",
            "premask_branch_10 (Conv2D)      (None, 256, 512, 32) 4128        USC-P1-bn2[0][0]                 \n",
            "__________________________________________________________________________________________________\n",
            "labels_branch_10 (Conv2D)       (None, 256, 512, 64) 8256        USC-P1-bn2[0][0]                 \n",
            "__________________________________________________________________________________________________\n",
            "premask_branch_1bn0 (BatchNorma (None, 256, 512, 32) 128         premask_branch_10[0][0]          \n",
            "__________________________________________________________________________________________________\n",
            "labels_branch_1bn0 (BatchNormal (None, 256, 512, 64) 256         labels_branch_10[0][0]           \n",
            "__________________________________________________________________________________________________\n",
            "premask_branch_11 (Conv2D)      (None, 256, 512, 3)  99          premask_branch_1bn0[0][0]        \n",
            "__________________________________________________________________________________________________\n",
            "labels_branch_11 (Conv2D)       (None, 256, 512, 37) 2405        labels_branch_1bn0[0][0]         \n",
            "__________________________________________________________________________________________________\n",
            "premask_branch_1bn1 (BatchNorma (None, 256, 512, 3)  12          premask_branch_11[0][0]          \n",
            "__________________________________________________________________________________________________\n",
            "labels_branch_1bn1 (BatchNormal (None, 256, 512, 37) 148         labels_branch_11[0][0]           \n",
            "==================================================================================================\n",
            "Total params: 45,520,840\n",
            "Trainable params: 45,449,656\n",
            "Non-trainable params: 71,184\n",
            "__________________________________________________________________________________________________\n"
          ],
          "name": "stdout"
        }
      ]
    },
    {
      "cell_type": "code",
      "metadata": {
        "id": "IrhfHJ8AtpkL",
        "colab_type": "code",
        "colab": {
          "base_uri": "https://localhost:8080/",
          "height": 122
        },
        "outputId": "bc410984-6469-4c2c-f269-e66e2fb529b5"
      },
      "source": [
        "# model.load_weights('/content/gdrive/My Drive/workspace/dental/checkpoints/model.16.h5')\n",
        "my_callbacks = [\n",
        "    tf.keras.callbacks.ModelCheckpoint(filepath='/content/gdrive/My Drive/workspace/dental/checkpoints_matchboundary/model.{epoch:02d}.h5'),\n",
        "    tf.keras.callbacks.TensorBoard(log_dir='/content/gdrive/My Drive/workspace/dental/tb_matchboundary/'),\n",
        "]\n",
        " \n",
        "history = model.fit(train_ds, epochs=100,initial_epoch=0, validation_data=val_ds, callbacks=my_callbacks, verbose=1)"
      ],
      "execution_count": null,
      "outputs": [
        {
          "output_type": "stream",
          "text": [
            "Epoch 1/100\n",
            "      1/Unknown - 0s 889us/step - loss: 2.2905 - premask_branch_1bn1_loss: 1.4989 - labels_branch_1bn1_loss: 0.7916WARNING:tensorflow:From /usr/local/lib/python3.6/dist-packages/tensorflow/python/ops/summary_ops_v2.py:1277: stop (from tensorflow.python.eager.profiler) is deprecated and will be removed after 2020-07-01.\n",
            "Instructions for updating:\n",
            "use `tf.profiler.experimental.stop` instead.\n",
            "      3/Unknown - 19s 6s/step - loss: 1.9291 - premask_branch_1bn1_loss: 1.1365 - labels_branch_1bn1_loss: 0.7925"
          ],
          "name": "stdout"
        }
      ]
    },
    {
      "cell_type": "code",
      "metadata": {
        "id": "vKtAnWaLJh87",
        "colab_type": "code",
        "colab": {
          "base_uri": "https://localhost:8080/",
          "height": 357
        },
        "outputId": "5fcbe1c8-dcbd-4217-e684-43e2bb80a679"
      },
      "source": [
        "!nvidia-smi"
      ],
      "execution_count": null,
      "outputs": [
        {
          "output_type": "stream",
          "text": [
            "Fri Aug 14 10:06:11 2020       \n",
            "+-----------------------------------------------------------------------------+\n",
            "| NVIDIA-SMI 450.57       Driver Version: 418.67       CUDA Version: 10.1     |\n",
            "|-------------------------------+----------------------+----------------------+\n",
            "| GPU  Name        Persistence-M| Bus-Id        Disp.A | Volatile Uncorr. ECC |\n",
            "| Fan  Temp  Perf  Pwr:Usage/Cap|         Memory-Usage | GPU-Util  Compute M. |\n",
            "|                               |                      |               MIG M. |\n",
            "|===============================+======================+======================|\n",
            "|   0  Tesla P100-PCIE...  Off  | 00000000:00:04.0 Off |                    0 |\n",
            "| N/A   67C    P0    50W / 250W |  15561MiB / 16280MiB |      0%      Default |\n",
            "|                               |                      |                 ERR! |\n",
            "+-------------------------------+----------------------+----------------------+\n",
            "                                                                               \n",
            "+-----------------------------------------------------------------------------+\n",
            "| Processes:                                                                  |\n",
            "|  GPU   GI   CI        PID   Type   Process name                  GPU Memory |\n",
            "|        ID   ID                                                   Usage      |\n",
            "|=============================================================================|\n",
            "|  No running processes found                                                 |\n",
            "+-----------------------------------------------------------------------------+\n"
          ],
          "name": "stdout"
        }
      ]
    },
    {
      "cell_type": "code",
      "metadata": {
        "id": "abJkvIdhIQh8",
        "colab_type": "code",
        "colab": {}
      },
      "source": [
        ""
      ],
      "execution_count": null,
      "outputs": []
    },
    {
      "cell_type": "code",
      "metadata": {
        "id": "SDis0mv3LfgM",
        "colab_type": "code",
        "colab": {}
      },
      "source": [
        ""
      ],
      "execution_count": null,
      "outputs": []
    },
    {
      "cell_type": "code",
      "metadata": {
        "id": "q5g2lX-HQGfu",
        "colab_type": "code",
        "colab": {}
      },
      "source": [
        ""
      ],
      "execution_count": null,
      "outputs": []
    },
    {
      "cell_type": "code",
      "metadata": {
        "id": "IM5f7uO7Gdln",
        "colab_type": "code",
        "colab": {}
      },
      "source": [
        ""
      ],
      "execution_count": null,
      "outputs": []
    },
    {
      "cell_type": "code",
      "metadata": {
        "id": "GFXEIJk9tpkP",
        "colab_type": "code",
        "colab": {
          "base_uri": "https://localhost:8080/",
          "height": 34
        },
        "outputId": "23d29523-7813-4ec7-990b-b87b23f5e535"
      },
      "source": [
        "tf.config.list_physical_devices('GPU')"
      ],
      "execution_count": null,
      "outputs": [
        {
          "output_type": "execute_result",
          "data": {
            "text/plain": [
              "[PhysicalDevice(name='/physical_device:GPU:0', device_type='GPU')]"
            ]
          },
          "metadata": {
            "tags": []
          },
          "execution_count": 21
        }
      ]
    },
    {
      "cell_type": "code",
      "metadata": {
        "id": "z0V9oIOV02CA",
        "colab_type": "code",
        "colab": {}
      },
      "source": [
        "wget http://developer.download.nvidia.com/compute/cuda/10.2/Prod/local_installers/cuda_10.2.89_440.33.01_linux.run"
      ],
      "execution_count": null,
      "outputs": []
    },
    {
      "cell_type": "code",
      "metadata": {
        "id": "-7I8Q1tX3Ig9",
        "colab_type": "code",
        "colab": {}
      },
      "source": [
        ""
      ],
      "execution_count": null,
      "outputs": []
    },
    {
      "cell_type": "code",
      "metadata": {
        "id": "2A3hdYnq5a_6",
        "colab_type": "code",
        "colab": {}
      },
      "source": [
        ""
      ],
      "execution_count": null,
      "outputs": []
    },
    {
      "cell_type": "code",
      "metadata": {
        "id": "akmN9kna7tfE",
        "colab_type": "code",
        "colab": {}
      },
      "source": [
        ""
      ],
      "execution_count": null,
      "outputs": []
    },
    {
      "cell_type": "code",
      "metadata": {
        "id": "6aUPpVPG9_9-",
        "colab_type": "code",
        "colab": {}
      },
      "source": [
        ""
      ],
      "execution_count": null,
      "outputs": []
    },
    {
      "cell_type": "code",
      "metadata": {
        "id": "vNtfysgeASc8",
        "colab_type": "code",
        "colab": {}
      },
      "source": [
        ""
      ],
      "execution_count": null,
      "outputs": []
    },
    {
      "cell_type": "code",
      "metadata": {
        "id": "74ZkpCYbCk77",
        "colab_type": "code",
        "colab": {}
      },
      "source": [
        ""
      ],
      "execution_count": null,
      "outputs": []
    },
    {
      "cell_type": "code",
      "metadata": {
        "id": "WjSg_muCE3a7",
        "colab_type": "code",
        "colab": {}
      },
      "source": [
        ""
      ],
      "execution_count": null,
      "outputs": []
    },
    {
      "cell_type": "code",
      "metadata": {
        "id": "u9DmhwWuHJ6A",
        "colab_type": "code",
        "colab": {}
      },
      "source": [
        ""
      ],
      "execution_count": null,
      "outputs": []
    },
    {
      "cell_type": "code",
      "metadata": {
        "id": "4560K4HXJcZN",
        "colab_type": "code",
        "colab": {}
      },
      "source": [
        ""
      ],
      "execution_count": null,
      "outputs": []
    },
    {
      "cell_type": "code",
      "metadata": {
        "id": "vYhxTYvdLu36",
        "colab_type": "code",
        "colab": {}
      },
      "source": [
        ""
      ],
      "execution_count": null,
      "outputs": []
    },
    {
      "cell_type": "code",
      "metadata": {
        "id": "2Eh_SuoCOBW8",
        "colab_type": "code",
        "colab": {}
      },
      "source": [
        ""
      ],
      "execution_count": null,
      "outputs": []
    },
    {
      "cell_type": "code",
      "metadata": {
        "id": "u2_COrH1QT2H",
        "colab_type": "code",
        "colab": {}
      },
      "source": [
        ""
      ],
      "execution_count": null,
      "outputs": []
    },
    {
      "cell_type": "code",
      "metadata": {
        "id": "96777ok_SmVB",
        "colab_type": "code",
        "colab": {}
      },
      "source": [
        ""
      ],
      "execution_count": null,
      "outputs": []
    },
    {
      "cell_type": "code",
      "metadata": {
        "id": "jEJyEtcoU40F",
        "colab_type": "code",
        "colab": {}
      },
      "source": [
        ""
      ],
      "execution_count": null,
      "outputs": []
    },
    {
      "cell_type": "code",
      "metadata": {
        "id": "0BoPC569XLTF",
        "colab_type": "code",
        "colab": {}
      },
      "source": [
        ""
      ],
      "execution_count": null,
      "outputs": []
    },
    {
      "cell_type": "code",
      "metadata": {
        "id": "YFuBFYxbZdyE",
        "colab_type": "code",
        "colab": {}
      },
      "source": [
        ""
      ],
      "execution_count": null,
      "outputs": []
    },
    {
      "cell_type": "code",
      "metadata": {
        "id": "7XycZ52dbwRD",
        "colab_type": "code",
        "colab": {}
      },
      "source": [
        ""
      ],
      "execution_count": null,
      "outputs": []
    },
    {
      "cell_type": "code",
      "metadata": {
        "id": "Ycn2nFBueCwD",
        "colab_type": "code",
        "colab": {}
      },
      "source": [
        ""
      ],
      "execution_count": null,
      "outputs": []
    },
    {
      "cell_type": "code",
      "metadata": {
        "id": "BxdZecsRgVPC",
        "colab_type": "code",
        "colab": {}
      },
      "source": [
        ""
      ],
      "execution_count": null,
      "outputs": []
    },
    {
      "cell_type": "code",
      "metadata": {
        "id": "ynPpMSaninuA",
        "colab_type": "code",
        "colab": {}
      },
      "source": [
        ""
      ],
      "execution_count": null,
      "outputs": []
    },
    {
      "cell_type": "code",
      "metadata": {
        "id": "IkZ6IHe8k6NF",
        "colab_type": "code",
        "colab": {}
      },
      "source": [
        ""
      ],
      "execution_count": null,
      "outputs": []
    },
    {
      "cell_type": "code",
      "metadata": {
        "id": "e6rQMzHxnMsE",
        "colab_type": "code",
        "colab": {}
      },
      "source": [
        ""
      ],
      "execution_count": null,
      "outputs": []
    },
    {
      "cell_type": "code",
      "metadata": {
        "id": "VtLLAUnWpfLC",
        "colab_type": "code",
        "colab": {}
      },
      "source": [
        ""
      ],
      "execution_count": null,
      "outputs": []
    },
    {
      "cell_type": "code",
      "metadata": {
        "id": "1hAk3ZJ8rxqC",
        "colab_type": "code",
        "colab": {}
      },
      "source": [
        ""
      ],
      "execution_count": null,
      "outputs": []
    },
    {
      "cell_type": "code",
      "metadata": {
        "id": "0R7QsR8luEJZ",
        "colab_type": "code",
        "colab": {}
      },
      "source": [
        ""
      ],
      "execution_count": null,
      "outputs": []
    },
    {
      "cell_type": "code",
      "metadata": {
        "id": "uksWvputwWoB",
        "colab_type": "code",
        "colab": {}
      },
      "source": [
        ""
      ],
      "execution_count": null,
      "outputs": []
    },
    {
      "cell_type": "code",
      "metadata": {
        "id": "Cl2u3sAyypHC",
        "colab_type": "code",
        "colab": {}
      },
      "source": [
        ""
      ],
      "execution_count": null,
      "outputs": []
    },
    {
      "cell_type": "code",
      "metadata": {
        "id": "ZcJsfunl07mD",
        "colab_type": "code",
        "colab": {}
      },
      "source": [
        ""
      ],
      "execution_count": null,
      "outputs": []
    },
    {
      "cell_type": "code",
      "metadata": {
        "id": "S1aqB1Dl3OFD",
        "colab_type": "code",
        "colab": {}
      },
      "source": [
        ""
      ],
      "execution_count": null,
      "outputs": []
    },
    {
      "cell_type": "code",
      "metadata": {
        "id": "jXhv8-M45gkB",
        "colab_type": "code",
        "colab": {}
      },
      "source": [
        ""
      ],
      "execution_count": null,
      "outputs": []
    },
    {
      "cell_type": "code",
      "metadata": {
        "id": "mZUCrp4M7zDB",
        "colab_type": "code",
        "colab": {}
      },
      "source": [
        ""
      ],
      "execution_count": null,
      "outputs": []
    },
    {
      "cell_type": "code",
      "metadata": {
        "id": "0_tAo-Rk-FiC",
        "colab_type": "code",
        "colab": {}
      },
      "source": [
        ""
      ],
      "execution_count": null,
      "outputs": []
    },
    {
      "cell_type": "code",
      "metadata": {
        "id": "u0czS08VAYBC",
        "colab_type": "code",
        "colab": {}
      },
      "source": [
        ""
      ],
      "execution_count": null,
      "outputs": []
    },
    {
      "cell_type": "code",
      "metadata": {
        "id": "3yvZQVgaCqgG",
        "colab_type": "code",
        "colab": {}
      },
      "source": [
        ""
      ],
      "execution_count": null,
      "outputs": []
    },
    {
      "cell_type": "code",
      "metadata": {
        "id": "FuIaF-8oE8_I",
        "colab_type": "code",
        "colab": {}
      },
      "source": [
        ""
      ],
      "execution_count": null,
      "outputs": []
    },
    {
      "cell_type": "code",
      "metadata": {
        "id": "snhf_4d4HPeC",
        "colab_type": "code",
        "colab": {}
      },
      "source": [
        ""
      ],
      "execution_count": null,
      "outputs": []
    },
    {
      "cell_type": "code",
      "metadata": {
        "id": "hcnEkwPwtpkU",
        "colab_type": "code",
        "colab": {}
      },
      "source": [
        ""
      ],
      "execution_count": null,
      "outputs": []
    },
    {
      "cell_type": "code",
      "metadata": {
        "id": "2np380xgtpkY",
        "colab_type": "code",
        "colab": {}
      },
      "source": [
        ""
      ],
      "execution_count": null,
      "outputs": []
    },
    {
      "cell_type": "code",
      "metadata": {
        "id": "jQpmzSAmtpkc",
        "colab_type": "code",
        "colab": {}
      },
      "source": [
        "# for i in range(len(teeth_labels)):\n",
        "#     cv2.imwrite(os.path.join(temp_dir, '%s.png'% teeth_labels[i]), (masks[:,:,i]/2 + img_croped/2).astype(int))\n",
        "# for j in range(len(ext_labels)):\n",
        "#     cv2.imwrite(os.path.join(temp_dir, '%s.png'% ext_labels[j]), (masks[:,:,len(teeth_labels) + j]/2 + img_croped/2).astype(int))"
      ],
      "execution_count": null,
      "outputs": []
    }
  ]
}